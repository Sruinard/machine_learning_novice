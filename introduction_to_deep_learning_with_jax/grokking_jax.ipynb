{
 "cells": [
  {
   "cell_type": "markdown",
   "metadata": {},
   "source": [
    "The goal of this notebook is to help you get an understanding of how Deep Learning models work under the hood. \n",
    "\n",
    "In this notebook we will:\n",
    "- Introduce the problem we'll solve with ML.\n",
    "- getting familiar with notation\n",
    "- Introduce JAX (INSERT LINK).\n",
    "- define a forward pass through our model\n",
    "- define a cost function\n",
    "- create a backward pass to update the model\n",
    "- leverage JAX for deep learning\n",
    "\n"
   ]
  },
  {
   "cell_type": "code",
   "execution_count": 33,
   "metadata": {},
   "outputs": [],
   "source": [
    "from typing import Tuple, List\n",
    "import requests\n",
    "import jax.numpy as jnp\n",
    "\n",
    "import matplotlib.pyplot as plt"
   ]
  },
  {
   "cell_type": "code",
   "execution_count": 34,
   "metadata": {},
   "outputs": [],
   "source": [
    "# You can skip understanding the following code. It's only here to get some data to work with.\n",
    "def build_auto_insurance_dataset() -> Tuple[List[float], List[float]]:\n",
    "    url='https://www.math.muni.cz/~kolacek/docs/frvs/M7222/data/AutoInsurSweden.txt'\n",
    "    raw_dataset = requests.get(url)\n",
    "    features, labels = [], []\n",
    "    index_at_which_features_and_labels_start = 11\n",
    "\n",
    "    raw_data = raw_dataset.text.split(\"\\n\")[index_at_which_features_and_labels_start:-1]\n",
    "    for feature_and_label in raw_data:\n",
    "        feature_and_label = feature_and_label.split(\"\\t\")\n",
    "        features.append([float(feature_and_label[0].replace(\",\", \".\"))])\n",
    "        labels.append(float(feature_and_label[1].replace(\",\", \".\")))\n",
    "    return jnp.array(features), jnp.array(labels).reshape(-1, 1)\n",
    "\n",
    "class PlottingUtils:\n",
    "\n",
    "\n",
    "    @staticmethod\n",
    "    def plot_results(features: List[float], labels: List[float], predictions: List[float]):\n",
    "        fig, ax = plt.subplots(figsize=(12, 8))\n",
    "        ax.plot(features, labels, 'bo', label='Real values')\n",
    "        ax.plot(features, predictions, 'ro', label='Predicted values')\n",
    "        ax.plot(features.reshape(-1), predictions.reshape(-1), label='Real values')\n",
    "        ax.legend([\"Actual\", \"Predicted\"])\n",
    "        ax.set_ylabel(\"Claims in thousands of Swedish kronor\")\n",
    "        ax.set_xlabel(\"Number of claims\")\n",
    "        # fig.ylabel(\"Claims in thousands of Swedish kronor\")\n",
    "        # fig.xlabel(\"Number of claims\")\n",
    "        return fig, ax\n"
   ]
  },
  {
   "cell_type": "code",
   "execution_count": 35,
   "metadata": {},
   "outputs": [],
   "source": [
    "# features is equal to the total number of claims for a given year\n",
    "# labels is the total payment for all claims in thousands of Swedish kronor\n",
    "features, labels = build_auto_insurance_dataset()\n"
   ]
  },
  {
   "cell_type": "markdown",
   "metadata": {},
   "source": []
  },
  {
   "cell_type": "code",
   "execution_count": 36,
   "metadata": {},
   "outputs": [
    {
     "name": "stdout",
     "output_type": "stream",
     "text": [
      "Our features has shape: (63, 1)\n"
     ]
    },
    {
     "data": {
      "text/plain": [
       "(<Figure size 864x576 with 1 Axes>,\n",
       " <AxesSubplot:xlabel='Number of claims', ylabel='Claims in thousands of Swedish kronor'>)"
      ]
     },
     "execution_count": 36,
     "metadata": {},
     "output_type": "execute_result"
    },
    {
     "data": {
      "image/png": "[encoded data removed]",
      "text/plain": [
       "<Figure size 864x576 with 1 Axes>"
      ]
     },
     "metadata": {
      "needs_background": "light"
     },
     "output_type": "display_data"
    }
   ],
   "source": [
    "# Introduction to linear regression\n",
    "def forward_pass(feature: jnp.ndarray, weight: jnp.ndarray, bias: jnp.ndarray) -> jnp.ndarray:\n",
    "    return feature * weight + bias\n",
    "\n",
    "\n",
    "# features is a MxN matrix, where M is the number of examples and N is the number of features\n",
    "# In our case, N is 1, because we have only one feature\n",
    "# M is the number of examples, which in our case is 63\n",
    "# As a result our output is a 63x1 matrix\n",
    "print(f\"Our features has shape: {features.shape}\")\n",
    "\n",
    "# We know our model is a Linear Regression model, meaning we have F_w_b(x) = w * x + b where w, b are the model parameters and are a scalar value.\n",
    "# and x is the model input, which is also a scalar value.\n",
    "weight = jnp.array([0.5])\n",
    "bias = jnp.array([0.5]) \n",
    "predictions = jnp.array([])\n",
    "for feature in features:\n",
    "    prediction = forward_pass(feature=feature, weight=weight, bias=bias)\n",
    "    predictions = jnp.append(predictions, prediction)\n",
    "\n",
    "\n",
    "# Lets plot the results\n",
    "PlottingUtils.plot_results(features, labels, predictions)"
   ]
  },
  {
   "cell_type": "markdown",
   "metadata": {},
   "source": [
    "That doesn't look too good... But that's still a bit vague. Let's try to make it a bit more unambiguous and for that, we need a cost function. \n",
    "A cost function is a summation over the loss function for all examples. What do we mean by that? \n",
    "\n",
    "Lets first define the loss function: \n",
    "$$\n",
    "L(y^{pred}_i, y^{true}_i) = \\frac{1}{2} * (y^{pred}_{i} - y^{true}_{i})^2\n",
    "$$\n",
    "\n",
    "The loss function determines how far \"off\" you are from the true value. The larger the loss is the further away you are from your target.\n",
    "Now the $y^{true}_i$ is historical data that has already been collected (in our case the claims in thousands of Swedish Kronor)\n",
    "Our prediction is what we need to compute, which we did during the forward pass. so, we can substitute that in our little formula below.\n",
    "\n",
    "\n",
    "$$\n",
    "\\begin{align}\n",
    "forward pass = y^{pred}_i \\\\\n",
    "y^{pred}_i = f_{w,b}(x_i)  \\\\\n",
    "f_{w,b}(x_i) = w * x_i + b \\\\\n",
    "\\end{align}\n",
    "$$\n",
    "$$\n",
    "\\begin{align}\n",
    "L(y^{pred}_i, y^{true}_i) = \\frac{1}{2} * (y^{pred}_{i} - y^{true}_{i})^2 \\\\\n",
    "L(f_{w,b}(x_i), y^{true}_i) = \\frac{1}{2} * (w * x_i + b - y^{true}_{i})^2 \n",
    "\\end{align}\n",
    "$$\n",
    "\n",
    "Alright. So the loss function is defined, but this is only for one feature, label pair (or more simple stated: one training example).\n",
    "The next part has to do with the cost function often denoted as $J(w, b)$. What does this mean? For a given weight $w$ and bias $b$, calculate the loss function over all training examples.\n",
    "\n",
    "$$\n",
    "\n",
    "\\frac{1}{m}\\sum^{m - 1}_{i=0} * L(f_{w,b}(x_i), y^{true}_i) = \\frac{1}{2m}\\sum^{m - 1}_{i=0}(f_{w,b}(x_{i}) - y_i)^2\n",
    "$$\n",
    "\n",
    "notice how we moved the constant out of the equation. In addition that we substitute the quadratic term in the final part of the equation for the $L$.\n",
    "\n",
    "Pfoeee.... With that out of the way, lets code!\n"
   ]
  },
  {
   "cell_type": "code",
   "execution_count": 37,
   "metadata": {},
   "outputs": [
    {
     "name": "stdout",
     "output_type": "stream",
     "text": [
      "The total cost is: 7537.8271484375\n"
     ]
    }
   ],
   "source": [
    "def calculate_loss(predictions: jnp.ndarray, labels: jnp.ndarray) -> jnp.ndarray:\n",
    "    return 1 / 2 * (predictions - labels) ** 2\n",
    "\n",
    "def calculate_cost(predictions: jnp.ndarray, labels: jnp.ndarray) -> jnp.ndarray:\n",
    "    return jnp.mean(calculate_loss(predictions, labels))\n",
    "\n",
    "total_cost = calculate_cost(predictions=predictions, labels=jnp.array(labels))\n",
    "\n",
    "print(f\"The total cost is: {total_cost}\")"
   ]
  },
  {
   "cell_type": "code",
   "execution_count": 38,
   "metadata": {},
   "outputs": [],
   "source": [
    "# wj_dw = xj * (yj - y_hatj)"
   ]
  },
  {
   "cell_type": "code",
   "execution_count": 39,
   "metadata": {},
   "outputs": [
    {
     "name": "stdout",
     "output_type": "stream",
     "text": [
      "Epoch: 0 Cost: 8572.900390625\n",
      "Epoch: 100 Cost: 724.6031494140625\n",
      "Epoch: 200 Cost: 723.6050415039062\n",
      "Epoch: 300 Cost: 722.6170654296875\n",
      "Epoch: 400 Cost: 721.638916015625\n",
      "Epoch: 500 Cost: 720.670654296875\n",
      "Epoch: 600 Cost: 719.712158203125\n",
      "Epoch: 700 Cost: 718.763427734375\n",
      "Epoch: 800 Cost: 717.823974609375\n",
      "Epoch: 900 Cost: 716.8941650390625\n"
     ]
    }
   ],
   "source": [
    "# Gradient descent\n",
    "\n",
    "def compute_gradient(features, weight, bias, labels):\n",
    "    predictions = forward_pass(features, weight, bias)\n",
    "\n",
    "    weight_derivative = jnp.mean(((predictions - labels) * features))  \n",
    "    bias_derivative = jnp.mean((predictions - labels) * 1)\n",
    "    return weight_derivative, bias_derivative\n",
    "\n",
    "def update_weights(features, weight, bias, labels, learning_rate):\n",
    "    weight_derivative, bias_derivative = compute_gradient(features, weight, bias, labels)\n",
    "    weight = weight - learning_rate * weight_derivative\n",
    "    bias = bias - learning_rate * bias_derivative\n",
    "    return weight, bias\n",
    "\n",
    "weight = 0\n",
    "bias = 0\n",
    "n_epochs = 1000\n",
    "learning_rate = 0.0001\n",
    "for i in range(n_epochs):\n",
    "    predictions = forward_pass(features, weight, bias)\n",
    "    cost = calculate_cost(predictions, labels)\n",
    "    \n",
    "    weight, bias = update_weights(features, weight, bias, labels, learning_rate)\n",
    "    if i % 100 == 0:\n",
    "        print(f\"Epoch: {i} Cost: {cost}\")"
   ]
  },
  {
   "cell_type": "code",
   "execution_count": 40,
   "metadata": {},
   "outputs": [
    {
     "data": {
      "image/png": "[encoded data removed]",
      "text/plain": [
       "<Figure size 864x576 with 1 Axes>"
      ]
     },
     "metadata": {
      "needs_background": "light"
     },
     "output_type": "display_data"
    }
   ],
   "source": [
    "fig, ax = PlottingUtils.plot_results(\n",
    "    features,\n",
    "    labels,\n",
    "    forward_pass(features, weight, bias)\n",
    ")"
   ]
  },
  {
   "cell_type": "code",
   "execution_count": 41,
   "metadata": {},
   "outputs": [
    {
     "data": {
      "image/png": "[encoded data removed]",
      "text/plain": [
       "<Figure size 864x576 with 1 Axes>"
      ]
     },
     "execution_count": 41,
     "metadata": {},
     "output_type": "execute_result"
    }
   ],
   "source": [
    "new_number_of_claims = jnp.array([80])\n",
    "prediction = forward_pass(new_number_of_claims, weight, bias)\n",
    "ax.scatter(new_number_of_claims, prediction, s=400, c='g')\n",
    "\n",
    "fig"
   ]
  },
  {
   "cell_type": "code",
   "execution_count": 42,
   "metadata": {},
   "outputs": [],
   "source": [
    "# import jax.numpy as jnp\n",
    "# from jax import grad, jit, vmap\n",
    "\n",
    "# def predict(params, inputs):\n",
    "#   W, b = params\n",
    "#   outputs = jnp.dot(inputs, W) + b\n",
    "#   return outputs                # no activation on last layer\n",
    "\n",
    "# def loss(params, inputs, targets):\n",
    "#   preds = predict(params, inputs)\n",
    "#   return jnp.sum((preds - targets)**2)\n",
    "\n",
    "# PARAMS = [jnp.array([0.5]), jnp.array([0.5])]\n",
    "# grad_loss = jit(grad(loss))(PARAMS, features, labels)  # compiled gradient evaluation function\n",
    "# perex_grads = jit(vmap(grad_loss, in_axes=(None, 0, 0)))  # fast per-example grads"
   ]
  },
  {
   "cell_type": "code",
   "execution_count": 43,
   "metadata": {},
   "outputs": [
    {
     "name": "stdout",
     "output_type": "stream",
     "text": [
      "10\n"
     ]
    }
   ],
   "source": [
    "from jax import jit\n",
    "n_pies = 0\n",
    "def add_pies(pies_to_add: int):\n",
    "    return n_pies + pies_to_add\n",
    "\n",
    "print(jit(add_pies)(10))"
   ]
  },
  {
   "cell_type": "code",
   "execution_count": 46,
   "metadata": {},
   "outputs": [
    {
     "name": "stdout",
     "output_type": "stream",
     "text": [
      "10\n"
     ]
    }
   ],
   "source": [
    "\n",
    "n_pies = 20\n",
    "print(jit(add_pies)(10))\n"
   ]
  },
  {
   "cell_type": "code",
   "execution_count": 45,
   "metadata": {},
   "outputs": [
    {
     "name": "stdout",
     "output_type": "stream",
     "text": [
      "10\n",
      "30\n"
     ]
    }
   ],
   "source": [
    "from jax import jit\n",
    "\n",
    "def pure_add_pies(n_pies: int, pies_to_add: int):\n",
    "    return n_pies + pies_to_add\n",
    "\n",
    "print(jit(pure_add_pies)(0, 10))\n",
    "print(jit(pure_add_pies)(20, 10))"
   ]
  },
  {
   "cell_type": "code",
   "execution_count": 74,
   "metadata": {},
   "outputs": [
    {
     "name": "stdout",
     "output_type": "stream",
     "text": [
      "[100   2   3   4   5]\n",
      "This is not possible in JAX\n",
      "[1 2 3 4 5]\n"
     ]
    }
   ],
   "source": [
    "import jax.numpy as jnp\n",
    "import numpy as np\n",
    "\n",
    "base = np.array([1, 2, 3, 4, 5])\n",
    "base[0] = 100\n",
    "print(base)\n",
    "# >>> [100, 2, 3, 4, 5]\n",
    "\n",
    "base_jax = jnp.array([1, 2, 3, 4, 5])\n",
    "try:\n",
    "    base_jax[0] = 100\n",
    "except:\n",
    "    print(\"This is not possible in JAX\")\n",
    "print(base_jax)\n",
    "# >>> TypeError: JAX arrays are immutable\n"
   ]
  },
  {
   "cell_type": "code",
   "execution_count": 75,
   "metadata": {},
   "outputs": [
    {
     "name": "stdout",
     "output_type": "stream",
     "text": [
      "[100   2   3   4   5]\n",
      "[100   2   3   4   5]\n"
     ]
    }
   ],
   "source": [
    "import jax.numpy as jnp\n",
    "import numpy as np\n",
    "\n",
    "base = np.array([1, 2, 3, 4, 5])\n",
    "base[0] = 100\n",
    "print(base)\n",
    "# >>> [100, 2, 3, 4, 5]\n",
    "\n",
    "base_jax = jnp.array([1, 2, 3, 4, 5])\n",
    "# Notice the square brackets\n",
    "# and the assignment to the variable updated_base \n",
    "# we'll see why we need the assignment a bit later\n",
    "updated_base = base_jax.at[0].set(100)\n",
    "print(updated_base)\n",
    "# >>> [100, 2, 3, 4, 5]"
   ]
  },
  {
   "cell_type": "code",
   "execution_count": 67,
   "metadata": {},
   "outputs": [
    {
     "data": {
      "text/plain": [
       "(5, 10)"
      ]
     },
     "execution_count": 67,
     "metadata": {},
     "output_type": "execute_result"
    }
   ],
   "source": [
    "from jax import jit, vmap\n",
    "from jax import random \n",
    "\n",
    "keygen = random.PRNGKey(0)\n",
    "weights = random.normal(keygen, shape=(2, 10))\n",
    "batch = random.normal(keygen, shape=(5, 2))\n",
    "\n",
    "@jit\n",
    "def linear_forward(batch, weights):\n",
    "    batch_dim_features = 0\n",
    "    batch_dim_weights = None\n",
    "    return vmap(jnp.dot, in_axes=(batch_dim_features, batch_dim_weights))(batch, weights)\n",
    "preds = linear_forward(batch, weights)\n",
    "preds.shape\n",
    "\n",
    "\n",
    "\n",
    "\n"
   ]
  },
  {
   "cell_type": "code",
   "execution_count": null,
   "metadata": {},
   "outputs": [],
   "source": []
  }
 ],
 "metadata": {
  "kernelspec": {
   "display_name": "Python 3.9.10 ('venv': venv)",
   "language": "python",
   "name": "python3"
  },
  "language_info": {
   "codemirror_mode": {
    "name": "ipython",
    "version": 3
   },
   "file_extension": ".py",
   "mimetype": "text/x-python",
   "name": "python",
   "nbconvert_exporter": "python",
   "pygments_lexer": "ipython3",
   "version": "3.9.10"
  },
  "orig_nbformat": 4,
  "vscode": {
   "interpreter": {
    "hash": "846623b6fea914a09d8351c99a0b0d87ed0e842eab2c8bbb40644893e9b4a025"
   }
  }
 },
 "nbformat": 4,
 "nbformat_minor": 2
}
