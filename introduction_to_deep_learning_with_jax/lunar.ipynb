{
 "cells": [
  {
   "cell_type": "code",
   "execution_count": 1,
   "metadata": {},
   "outputs": [
    {
     "name": "stderr",
     "output_type": "stream",
     "text": [
      "/workspaces/machine_learning_novice/venv/lib/python3.10/site-packages/haiku/_src/data_structures.py:37: FutureWarning: jax.tree_structure is deprecated, and will be removed in a future release. Use jax.tree_util.tree_structure instead.\n",
      "  PyTreeDef = type(jax.tree_structure(None))\n"
     ]
    }
   ],
   "source": [
    "import jax\n",
    "import jax.numpy as jnp\n",
    "import jaxlib\n",
    "import optax\n",
    "import haiku as hk\n",
    "import gym"
   ]
  },
  {
   "cell_type": "code",
   "execution_count": 4,
   "metadata": {},
   "outputs": [
    {
     "name": "stdout",
     "output_type": "stream",
     "text": [
      "4\n"
     ]
    }
   ],
   "source": [
    "env = gym.make('LunarLander-v2', new_step_api=True)\n",
    "print(env.action_space.n)"
   ]
  },
  {
   "cell_type": "code",
   "execution_count": 5,
   "metadata": {},
   "outputs": [],
   "source": [
    "NUM_ACTIONS = env.action_space.n\n"
   ]
  },
  {
   "cell_type": "markdown",
   "metadata": {},
   "source": [
    "## What we need\n",
    "\n",
    "- [x] Environment \n",
    "- [] Memory Buffer\n",
    "- [] DQN model\n",
    "- [] loss function\n",
    "- [] Training Loop\n"
   ]
  },
  {
   "cell_type": "code",
   "execution_count": 6,
   "metadata": {},
   "outputs": [],
   "source": [
    "class TrainConfig:\n",
    "    MEMORY_SIZE = 10000\n",
    "    BATCH_SIZE = 64\n",
    "    UPDATE_PARAMS_EVERY_N_STEPS = 4\n",
    "    TAU = 0.001\n",
    "    E_MIN = 0.01\n",
    "    E_DECAY = 0.995\n",
    "    N_EPISODES = 2000\n",
    "    MAX_N_STEPS_PER_EPISODE = 1000\n",
    "    "
   ]
  },
  {
   "cell_type": "code",
   "execution_count": 7,
   "metadata": {},
   "outputs": [],
   "source": [
    "import dataclasses\n",
    "from typing import NamedTuple\n",
    "from collections import deque\n",
    "\n",
    "\n",
    "@dataclasses.dataclass\n",
    "class Experience:\n",
    "    state: jnp.ndarray\n",
    "    action: int\n",
    "    reward: float\n",
    "    next_state: jnp.ndarray\n",
    "    done: bool\n",
    "\n",
    "\n",
    "memory = deque(maxlen=TrainConfig.MEMORY_SIZE)"
   ]
  },
  {
   "cell_type": "markdown",
   "metadata": {},
   "source": [
    "## What we need\n",
    "\n",
    "- [x] Environment \n",
    "- [x] Memory Buffer\n",
    "- [] DQN model\n",
    "- [] loss function\n",
    "- [] Training Loop\n"
   ]
  },
  {
   "cell_type": "code",
   "execution_count": null,
   "metadata": {},
   "outputs": [],
   "source": []
  },
  {
   "cell_type": "code",
   "execution_count": null,
   "metadata": {},
   "outputs": [],
   "source": []
  },
  {
   "cell_type": "code",
   "execution_count": 8,
   "metadata": {},
   "outputs": [],
   "source": [
    "from typing import NamedTuple\n",
    "# @dataclasses.dataclass\n",
    "class TrainingState(NamedTuple):\n",
    "    params: hk.Params\n",
    "    target_params: hk.Params\n",
    "    eval_params: hk.Params\n",
    "    opt_state: optax.OptState\n",
    "\n",
    "# @dataclasses.dataclass\n",
    "class Batch(NamedTuple):\n",
    "    states: jnp.ndarray\n",
    "    actions: int\n",
    "    rewards: float\n",
    "    next_states: jnp.ndarray\n",
    "    dones: bool\n",
    "\n",
    "\n",
    "\n",
    "def network_fn(x: jnp.ndarray) -> jnp.ndarray:\n",
    "    model = hk.Sequential(\n",
    "        [\n",
    "            hk.Linear(64),jax.nn.relu,\n",
    "            hk.Linear(64), jax.nn.relu,\n",
    "            hk.Linear(NUM_ACTIONS),\n",
    "        ]\n",
    "\n",
    "    )\n",
    "    return model(x)\n",
    "\n",
    "network = hk.without_apply_rng(hk.transform(network_fn))\n",
    "target_network = hk.without_apply_rng(hk.transform(network_fn))\n",
    "optimiser = optax.adam(1e-3)\n",
    "# Initialise network and optimiser; note we draw an input to get shapes."
   ]
  },
  {
   "cell_type": "code",
   "execution_count": 9,
   "metadata": {},
   "outputs": [
    {
     "name": "stderr",
     "output_type": "stream",
     "text": [
      "WARNING:absl:No GPU/TPU found, falling back to CPU. (Set TF_CPP_MIN_LOG_LEVEL=0 and rerun for more info.)\n"
     ]
    },
    {
     "data": {
      "text/plain": [
       "(64, 8)"
      ]
     },
     "execution_count": 9,
     "metadata": {},
     "output_type": "execute_result"
    }
   ],
   "source": [
    "import jax.random as jrandom\n",
    "import random\n",
    "import numpy as np\n",
    "keygen = jrandom.PRNGKey(0)\n",
    "\n",
    "def get_random_batch(memory):\n",
    "    batch = random.sample(memory, k=TrainConfig.BATCH_SIZE)\n",
    "    return Batch(\n",
    "        states=jnp.array([e.state for e in batch]),\n",
    "        actions=jnp.array([e.action for e in batch]),\n",
    "        rewards=jnp.array([e.reward for e in batch]),\n",
    "        next_states=jnp.array([e.next_state for e in batch]),\n",
    "        dones=jnp.array([e.done for e in batch]),\n",
    "    )\n",
    "\n",
    "small_memory = deque(maxlen=1000)\n",
    "\n",
    "state = env.reset()\n",
    "action = env.action_space.sample()\n",
    "for _ in range(200):\n",
    "    action = env.action_space.sample()\n",
    "    next_state, reward, is_done, *_ = env.step(action)\n",
    "    experience = Experience(state, action, reward, next_state, is_done)\n",
    "    small_memory.append(experience)\n",
    "\n",
    "batch = get_random_batch(small_memory)\n",
    "\n",
    "batch.states.shape"
   ]
  },
  {
   "cell_type": "code",
   "execution_count": 10,
   "metadata": {},
   "outputs": [
    {
     "name": "stderr",
     "output_type": "stream",
     "text": [
      "/workspaces/machine_learning_novice/venv/lib/python3.10/site-packages/haiku/_src/data_structures.py:144: FutureWarning: jax.tree_flatten is deprecated, and will be removed in a future release. Use jax.tree_util.tree_flatten instead.\n",
      "  leaves, treedef = jax.tree_flatten(tree)\n",
      "/workspaces/machine_learning_novice/venv/lib/python3.10/site-packages/haiku/_src/data_structures.py:145: FutureWarning: jax.tree_unflatten is deprecated, and will be removed in a future release. Use jax.tree_util.tree_unflatten instead.\n",
      "  return jax.tree_unflatten(treedef, leaves)\n"
     ]
    }
   ],
   "source": [
    "\n",
    "initial_params = network.init(\n",
    "    jax.random.PRNGKey(seed=0), batch.states)\n",
    "initial_opt_state = optimiser.init(initial_params)\n",
    "train_state = TrainingState(initial_params, initial_params, initial_params, initial_opt_state)"
   ]
  },
  {
   "cell_type": "markdown",
   "metadata": {},
   "source": [
    "## What we need\n",
    "\n",
    "- [x] Environment \n",
    "- [x] Memory Buffer\n",
    "- [x] DQN model\n",
    "- [] loss function\n",
    "- [] Training Loop\n"
   ]
  },
  {
   "cell_type": "code",
   "execution_count": 11,
   "metadata": {},
   "outputs": [],
   "source": [
    "# def loss(params: hk.Params, batch: Batch) -> jnp.ndarray:\n",
    "params = train_state.params\n",
    "state_actions_values = network.apply(params, batch.next_states)\n",
    "max_state_actions_values = jnp.max(state_actions_values, axis=1)\n",
    "targets = batch.rewards + jnp.where(batch.dones, 0.0, max_state_actions_values)\n",
    "\n",
    "q_values = network.apply(params, batch.states)\n",
    "\n"
   ]
  },
  {
   "cell_type": "code",
   "execution_count": 12,
   "metadata": {},
   "outputs": [
    {
     "data": {
      "text/plain": [
       "(64, 4)"
      ]
     },
     "execution_count": 12,
     "metadata": {},
     "output_type": "execute_result"
    }
   ],
   "source": [
    "q_values.shape"
   ]
  },
  {
   "cell_type": "code",
   "execution_count": 13,
   "metadata": {},
   "outputs": [],
   "source": [
    "\n",
    "q_value_for_action_taken = q_values[jnp.arange(q_values.shape[0]), batch.actions]\n"
   ]
  },
  {
   "cell_type": "code",
   "execution_count": 14,
   "metadata": {},
   "outputs": [
    {
     "name": "stdout",
     "output_type": "stream",
     "text": [
      "[0.2785838  0.16615024 0.14843863 0.02754669]\n",
      "2\n",
      "0.14843863\n"
     ]
    }
   ],
   "source": [
    "print(q_values[0])\n",
    "print(batch.actions[0])\n",
    "print(q_value_for_action_taken[0])\n",
    "assert q_value_for_action_taken[0] == q_values[0][batch.actions[0]]"
   ]
  },
  {
   "cell_type": "code",
   "execution_count": 15,
   "metadata": {},
   "outputs": [],
   "source": [
    "def loss(params, target_params, batch):\n",
    "    q_values = network.apply(params, batch.states)\n",
    "    q_values_pred = q_values[jnp.arange(q_values.shape[0]), batch.actions]\n",
    "\n",
    "    q_values_next = target_network.apply(target_params, batch.next_states)\n",
    "    q_values_next_max = jnp.max(q_values_next, axis=1)\n",
    "\n",
    "    q_value_true = batch.rewards + jnp.where(batch.dones, 0.0, q_values_next_max)\n",
    "    return jnp.mean((q_values_pred - q_value_true) ** 2)"
   ]
  },
  {
   "cell_type": "code",
   "execution_count": 16,
   "metadata": {},
   "outputs": [],
   "source": [
    "@jax.jit\n",
    "def update(train_state: TrainingState, batch: Batch) -> TrainingState:\n",
    "    \"\"\"Learning rule (stochastic gradient descent).\"\"\"\n",
    "    grads = jax.grad(loss)(train_state.params, train_state.target_params, batch)\n",
    "    updates, opt_state = optimiser.update(grads, train_state.opt_state)\n",
    "    params = optax.apply_updates(train_state.params, updates)\n",
    "\n",
    "    # Update target network.\n",
    "    # params * TAU + (1 - TAU) * new_params\n",
    "    # target_params = params * TrainConfig.TAU  + (1 - TrainConfig.TAU) * train_state.target_params\n",
    "    target_params = optax.incremental_update(params, train_state.target_params, TrainConfig.TAU)\n",
    "    \n",
    "    # Compute avg_params, the exponential moving average of the \"live\" params.\n",
    "    # We use this only for evaluation (cf. https://doi.org/10.1137/0330046).\n",
    "    eval_params = optax.incremental_update(\n",
    "        params, train_state.eval_params, step_size=0.001)\n",
    "    return TrainingState(params, target_params, eval_params, opt_state)"
   ]
  },
  {
   "cell_type": "code",
   "execution_count": 17,
   "metadata": {},
   "outputs": [
    {
     "data": {
      "text/plain": [
       "DeviceArray([[0.24135946, 0.03655888, 0.07189564, 0.03146065],\n",
       "             [0.24135946, 0.03655888, 0.07189564, 0.03146065]],            dtype=float32)"
      ]
     },
     "execution_count": 17,
     "metadata": {},
     "output_type": "execute_result"
    }
   ],
   "source": [
    "state =env.reset()\n",
    "batch_state = jnp.array([state, state])\n",
    "network.apply(train_state.params, state)\n",
    "network.apply(train_state.params, batch_state)"
   ]
  },
  {
   "cell_type": "code",
   "execution_count": 18,
   "metadata": {},
   "outputs": [],
   "source": [
    "\n",
    "def update_epsilon(epsilon, train_config: TrainConfig):\n",
    "    return max(train_config.E_MIN, train_config.E_DECAY*epsilon)\n",
    "\n",
    "def exploit_or_explore(q_value: jnp.ndarray, epsilon: float = 0.1) -> int:\n",
    "    \"\"\"Exploit or explore according to epsilon-greedy policy.\"\"\"\n",
    "    if random.random() < epsilon:\n",
    "        return env.action_space.sample()\n",
    "    else:\n",
    "        return np.array(jnp.argmax(q_value))\n",
    "\n",
    "def is_update_params(n_steps_taken: int, train_config: TrainConfig) -> bool:\n",
    "    \"\"\"Update params every `update_params_every` steps.\"\"\"\n",
    "    return (n_steps_taken + 1) % train_config.UPDATE_PARAMS_EVERY_N_STEPS == 0\n"
   ]
  },
  {
   "cell_type": "code",
   "execution_count": 19,
   "metadata": {},
   "outputs": [
    {
     "name": "stdout",
     "output_type": "stream",
     "text": [
      "Episode 28 | Total point average of the last 100 episodes: -157.51"
     ]
    },
    {
     "ename": "KeyboardInterrupt",
     "evalue": "",
     "output_type": "error",
     "traceback": [
      "\u001b[0;31m---------------------------------------------------------------------------\u001b[0m",
      "\u001b[0;31mKeyboardInterrupt\u001b[0m                         Traceback (most recent call last)",
      "\u001b[1;32m/workspaces/machine_learning_novice/introduction_to_deep_learning_with_jax/lunar.ipynb Cell 22\u001b[0m in \u001b[0;36m<cell line: 5>\u001b[0;34m()\u001b[0m\n\u001b[1;32m      <a href='vscode-notebook-cell://codespaces%2Bsruinard-machine-learning-novice-w96jq4w7556cgq9r/workspaces/machine_learning_novice/introduction_to_deep_learning_with_jax/lunar.ipynb#X30sdnNjb2RlLXJlbW90ZQ%3D%3D?line=6'>7</a>\u001b[0m total_reward \u001b[39m=\u001b[39m \u001b[39m0.0\u001b[39m\n\u001b[1;32m      <a href='vscode-notebook-cell://codespaces%2Bsruinard-machine-learning-novice-w96jq4w7556cgq9r/workspaces/machine_learning_novice/introduction_to_deep_learning_with_jax/lunar.ipynb#X30sdnNjb2RlLXJlbW90ZQ%3D%3D?line=8'>9</a>\u001b[0m \u001b[39mfor\u001b[39;00m step \u001b[39min\u001b[39;00m \u001b[39mrange\u001b[39m(train_config\u001b[39m.\u001b[39mMAX_N_STEPS_PER_EPISODE):\n\u001b[0;32m---> <a href='vscode-notebook-cell://codespaces%2Bsruinard-machine-learning-novice-w96jq4w7556cgq9r/workspaces/machine_learning_novice/introduction_to_deep_learning_with_jax/lunar.ipynb#X30sdnNjb2RlLXJlbW90ZQ%3D%3D?line=9'>10</a>\u001b[0m     q_value \u001b[39m=\u001b[39m network\u001b[39m.\u001b[39;49mapply(train_state\u001b[39m.\u001b[39;49mparams, state)\n\u001b[1;32m     <a href='vscode-notebook-cell://codespaces%2Bsruinard-machine-learning-novice-w96jq4w7556cgq9r/workspaces/machine_learning_novice/introduction_to_deep_learning_with_jax/lunar.ipynb#X30sdnNjb2RlLXJlbW90ZQ%3D%3D?line=10'>11</a>\u001b[0m     action \u001b[39m=\u001b[39m exploit_or_explore(q_value\u001b[39m=\u001b[39mq_value, epsilon\u001b[39m=\u001b[39mepsilon)\n\u001b[1;32m     <a href='vscode-notebook-cell://codespaces%2Bsruinard-machine-learning-novice-w96jq4w7556cgq9r/workspaces/machine_learning_novice/introduction_to_deep_learning_with_jax/lunar.ipynb#X30sdnNjb2RlLXJlbW90ZQ%3D%3D?line=12'>13</a>\u001b[0m     next_state, reward, is_done, \u001b[39m*\u001b[39m_ \u001b[39m=\u001b[39m env\u001b[39m.\u001b[39mstep(action)\n",
      "File \u001b[0;32m/workspaces/machine_learning_novice/venv/lib/python3.10/site-packages/haiku/_src/multi_transform.py:298\u001b[0m, in \u001b[0;36mwithout_apply_rng.<locals>.apply_fn\u001b[0;34m(params, *args, **kwargs)\u001b[0m\n\u001b[1;32m    296\u001b[0m \u001b[39mdef\u001b[39;00m \u001b[39mapply_fn\u001b[39m(params, \u001b[39m*\u001b[39margs, \u001b[39m*\u001b[39m\u001b[39m*\u001b[39mkwargs):\n\u001b[1;32m    297\u001b[0m   check_rng_kwarg(kwargs)\n\u001b[0;32m--> 298\u001b[0m   \u001b[39mreturn\u001b[39;00m f\u001b[39m.\u001b[39;49mapply(params, \u001b[39mNone\u001b[39;49;00m, \u001b[39m*\u001b[39;49margs, \u001b[39m*\u001b[39;49m\u001b[39m*\u001b[39;49mkwargs)\n",
      "File \u001b[0;32m/workspaces/machine_learning_novice/venv/lib/python3.10/site-packages/haiku/_src/transform.py:127\u001b[0m, in \u001b[0;36mwithout_state.<locals>.apply_fn\u001b[0;34m(params, *args, **kwargs)\u001b[0m\n\u001b[1;32m    120\u001b[0m \u001b[39mif\u001b[39;00m \u001b[39m\"\u001b[39m\u001b[39mstate\u001b[39m\u001b[39m\"\u001b[39m \u001b[39min\u001b[39;00m kwargs:\n\u001b[1;32m    121\u001b[0m   \u001b[39mraise\u001b[39;00m \u001b[39mTypeError\u001b[39;00m(\n\u001b[1;32m    122\u001b[0m       \u001b[39m\"\u001b[39m\u001b[39mHaiku transform adds three arguments (params, state, rng) to apply. \u001b[39m\u001b[39m\"\u001b[39m\n\u001b[1;32m    123\u001b[0m       \u001b[39m\"\u001b[39m\u001b[39mIf the functions you are transforming use the same names you must \u001b[39m\u001b[39m\"\u001b[39m\n\u001b[1;32m    124\u001b[0m       \u001b[39m\"\u001b[39m\u001b[39mpass them positionally (e.g. `f.apply(.., my_state)` and not by \u001b[39m\u001b[39m\"\u001b[39m\n\u001b[1;32m    125\u001b[0m       \u001b[39m\"\u001b[39m\u001b[39mname (e.g. `f.apply(.., state=my_state)`)\u001b[39m\u001b[39m\"\u001b[39m)\n\u001b[0;32m--> 127\u001b[0m out, state \u001b[39m=\u001b[39m f\u001b[39m.\u001b[39;49mapply(params, {}, \u001b[39m*\u001b[39;49margs, \u001b[39m*\u001b[39;49m\u001b[39m*\u001b[39;49mkwargs)\n\u001b[1;32m    128\u001b[0m \u001b[39mif\u001b[39;00m state:\n\u001b[1;32m    129\u001b[0m   \u001b[39mraise\u001b[39;00m \u001b[39mValueError\u001b[39;00m(\u001b[39m\"\u001b[39m\u001b[39mIf your transformed function uses `hk.\u001b[39m\u001b[39m{\u001b[39m\u001b[39mget,set}_state` \u001b[39m\u001b[39m\"\u001b[39m\n\u001b[1;32m    130\u001b[0m                    \u001b[39m\"\u001b[39m\u001b[39mthen use `hk.transform_with_state`.\u001b[39m\u001b[39m\"\u001b[39m)\n",
      "File \u001b[0;32m/workspaces/machine_learning_novice/venv/lib/python3.10/site-packages/haiku/_src/transform.py:354\u001b[0m, in \u001b[0;36mtransform_with_state.<locals>.apply_fn\u001b[0;34m(params, state, rng, *args, **kwargs)\u001b[0m\n\u001b[1;32m    352\u001b[0m \u001b[39mwith\u001b[39;00m base\u001b[39m.\u001b[39mnew_context(params\u001b[39m=\u001b[39mparams, state\u001b[39m=\u001b[39mstate, rng\u001b[39m=\u001b[39mrng) \u001b[39mas\u001b[39;00m ctx:\n\u001b[1;32m    353\u001b[0m   \u001b[39mtry\u001b[39;00m:\n\u001b[0;32m--> 354\u001b[0m     out \u001b[39m=\u001b[39m f(\u001b[39m*\u001b[39;49margs, \u001b[39m*\u001b[39;49m\u001b[39m*\u001b[39;49mkwargs)\n\u001b[1;32m    355\u001b[0m   \u001b[39mexcept\u001b[39;00m jax\u001b[39m.\u001b[39merrors\u001b[39m.\u001b[39mUnexpectedTracerError \u001b[39mas\u001b[39;00m e:\n\u001b[1;32m    356\u001b[0m     \u001b[39mraise\u001b[39;00m jax\u001b[39m.\u001b[39merrors\u001b[39m.\u001b[39mUnexpectedTracerError(unexpected_tracer_hint) \u001b[39mfrom\u001b[39;00m \u001b[39me\u001b[39;00m\n",
      "\u001b[1;32m/workspaces/machine_learning_novice/introduction_to_deep_learning_with_jax/lunar.ipynb Cell 22\u001b[0m in \u001b[0;36mnetwork_fn\u001b[0;34m(x)\u001b[0m\n\u001b[1;32m     <a href='vscode-notebook-cell://codespaces%2Bsruinard-machine-learning-novice-w96jq4w7556cgq9r/workspaces/machine_learning_novice/introduction_to_deep_learning_with_jax/lunar.ipynb#X30sdnNjb2RlLXJlbW90ZQ%3D%3D?line=18'>19</a>\u001b[0m \u001b[39mdef\u001b[39;00m \u001b[39mnetwork_fn\u001b[39m(x: jnp\u001b[39m.\u001b[39mndarray) \u001b[39m-\u001b[39m\u001b[39m>\u001b[39m jnp\u001b[39m.\u001b[39mndarray:\n\u001b[0;32m---> <a href='vscode-notebook-cell://codespaces%2Bsruinard-machine-learning-novice-w96jq4w7556cgq9r/workspaces/machine_learning_novice/introduction_to_deep_learning_with_jax/lunar.ipynb#X30sdnNjb2RlLXJlbW90ZQ%3D%3D?line=19'>20</a>\u001b[0m     model \u001b[39m=\u001b[39m hk\u001b[39m.\u001b[39;49mSequential(\n\u001b[1;32m     <a href='vscode-notebook-cell://codespaces%2Bsruinard-machine-learning-novice-w96jq4w7556cgq9r/workspaces/machine_learning_novice/introduction_to_deep_learning_with_jax/lunar.ipynb#X30sdnNjb2RlLXJlbW90ZQ%3D%3D?line=20'>21</a>\u001b[0m         [\n\u001b[1;32m     <a href='vscode-notebook-cell://codespaces%2Bsruinard-machine-learning-novice-w96jq4w7556cgq9r/workspaces/machine_learning_novice/introduction_to_deep_learning_with_jax/lunar.ipynb#X30sdnNjb2RlLXJlbW90ZQ%3D%3D?line=21'>22</a>\u001b[0m             hk\u001b[39m.\u001b[39;49mLinear(\u001b[39m64\u001b[39;49m),jax\u001b[39m.\u001b[39;49mnn\u001b[39m.\u001b[39;49mrelu,\n\u001b[1;32m     <a href='vscode-notebook-cell://codespaces%2Bsruinard-machine-learning-novice-w96jq4w7556cgq9r/workspaces/machine_learning_novice/introduction_to_deep_learning_with_jax/lunar.ipynb#X30sdnNjb2RlLXJlbW90ZQ%3D%3D?line=22'>23</a>\u001b[0m             hk\u001b[39m.\u001b[39;49mLinear(\u001b[39m64\u001b[39;49m), jax\u001b[39m.\u001b[39;49mnn\u001b[39m.\u001b[39;49mrelu,\n\u001b[1;32m     <a href='vscode-notebook-cell://codespaces%2Bsruinard-machine-learning-novice-w96jq4w7556cgq9r/workspaces/machine_learning_novice/introduction_to_deep_learning_with_jax/lunar.ipynb#X30sdnNjb2RlLXJlbW90ZQ%3D%3D?line=23'>24</a>\u001b[0m             hk\u001b[39m.\u001b[39;49mLinear(NUM_ACTIONS),\n\u001b[1;32m     <a href='vscode-notebook-cell://codespaces%2Bsruinard-machine-learning-novice-w96jq4w7556cgq9r/workspaces/machine_learning_novice/introduction_to_deep_learning_with_jax/lunar.ipynb#X30sdnNjb2RlLXJlbW90ZQ%3D%3D?line=24'>25</a>\u001b[0m         ]\n\u001b[1;32m     <a href='vscode-notebook-cell://codespaces%2Bsruinard-machine-learning-novice-w96jq4w7556cgq9r/workspaces/machine_learning_novice/introduction_to_deep_learning_with_jax/lunar.ipynb#X30sdnNjb2RlLXJlbW90ZQ%3D%3D?line=25'>26</a>\u001b[0m \n\u001b[1;32m     <a href='vscode-notebook-cell://codespaces%2Bsruinard-machine-learning-novice-w96jq4w7556cgq9r/workspaces/machine_learning_novice/introduction_to_deep_learning_with_jax/lunar.ipynb#X30sdnNjb2RlLXJlbW90ZQ%3D%3D?line=26'>27</a>\u001b[0m     )\n\u001b[1;32m     <a href='vscode-notebook-cell://codespaces%2Bsruinard-machine-learning-novice-w96jq4w7556cgq9r/workspaces/machine_learning_novice/introduction_to_deep_learning_with_jax/lunar.ipynb#X30sdnNjb2RlLXJlbW90ZQ%3D%3D?line=27'>28</a>\u001b[0m     \u001b[39mreturn\u001b[39;00m model(x)\n",
      "File \u001b[0;32m/workspaces/machine_learning_novice/venv/lib/python3.10/site-packages/haiku/_src/module.py:125\u001b[0m, in \u001b[0;36mModuleMetaclass.__call__\u001b[0;34m(cls, *args, **kwargs)\u001b[0m\n\u001b[1;32m    121\u001b[0m init(module, \u001b[39m*\u001b[39margs, \u001b[39m*\u001b[39m\u001b[39m*\u001b[39mkwargs)\n\u001b[1;32m    123\u001b[0m \u001b[39mif\u001b[39;00m (config\u001b[39m.\u001b[39mget_config()\u001b[39m.\u001b[39mmodule_auto_repr \u001b[39mand\u001b[39;00m\n\u001b[1;32m    124\u001b[0m     \u001b[39mgetattr\u001b[39m(module, \u001b[39m\"\u001b[39m\u001b[39mAUTO_REPR\u001b[39m\u001b[39m\"\u001b[39m, \u001b[39mTrue\u001b[39;00m)):\n\u001b[0;32m--> 125\u001b[0m   module\u001b[39m.\u001b[39m_auto_repr \u001b[39m=\u001b[39m utils\u001b[39m.\u001b[39;49mauto_repr(\u001b[39mcls\u001b[39;49m, \u001b[39m*\u001b[39;49margs, \u001b[39m*\u001b[39;49m\u001b[39m*\u001b[39;49mkwargs)  \u001b[39m# pylint: disable=protected-access\u001b[39;00m\n\u001b[1;32m    126\u001b[0m \u001b[39melse\u001b[39;00m:\n\u001b[1;32m    127\u001b[0m   module\u001b[39m.\u001b[39m_auto_repr \u001b[39m=\u001b[39m \u001b[39mobject\u001b[39m\u001b[39m.\u001b[39m\u001b[39m__repr__\u001b[39m(module)\n",
      "File \u001b[0;32m/workspaces/machine_learning_novice/venv/lib/python3.10/site-packages/haiku/_src/utils.py:72\u001b[0m, in \u001b[0;36mauto_repr\u001b[0;34m(cls, *args, **kwargs)\u001b[0m\n\u001b[1;32m     70\u001b[0m \u001b[39m# Keep used kwargs in the order they appear in argspec.\u001b[39;00m\n\u001b[1;32m     71\u001b[0m arg_names\u001b[39m.\u001b[39mextend(n \u001b[39mfor\u001b[39;00m n \u001b[39min\u001b[39;00m argspec\u001b[39m.\u001b[39margs \u001b[39mif\u001b[39;00m n \u001b[39min\u001b[39;00m kwargs)\n\u001b[0;32m---> 72\u001b[0m arg_values \u001b[39m=\u001b[39m inspect\u001b[39m.\u001b[39;49mgetcallargs(\u001b[39mcls\u001b[39;49m\u001b[39m.\u001b[39;49m\u001b[39m__init__\u001b[39;49m, \u001b[39mNone\u001b[39;49;00m, \u001b[39m*\u001b[39;49margs, \u001b[39m*\u001b[39;49m\u001b[39m*\u001b[39;49mkwargs)  \u001b[39m# pylint: disable=deprecated-method\u001b[39;00m\n\u001b[1;32m     74\u001b[0m \u001b[39m# Extract default parameter values.\u001b[39;00m\n\u001b[1;32m     75\u001b[0m defaults \u001b[39m=\u001b[39m argspec\u001b[39m.\u001b[39mdefaults \u001b[39mor\u001b[39;00m ()\n",
      "File \u001b[0;32m/opt/python/3.10.4/lib/python3.10/inspect.py:1498\u001b[0m, in \u001b[0;36mgetcallargs\u001b[0;34m(func, *positional, **named)\u001b[0m\n\u001b[1;32m   1492\u001b[0m \u001b[39mdef\u001b[39;00m \u001b[39mgetcallargs\u001b[39m(func, \u001b[39m/\u001b[39m, \u001b[39m*\u001b[39mpositional, \u001b[39m*\u001b[39m\u001b[39m*\u001b[39mnamed):\n\u001b[1;32m   1493\u001b[0m     \u001b[39m\"\"\"Get the mapping of arguments to values.\u001b[39;00m\n\u001b[1;32m   1494\u001b[0m \n\u001b[1;32m   1495\u001b[0m \u001b[39m    A dict is returned, with keys the function argument names (including the\u001b[39;00m\n\u001b[1;32m   1496\u001b[0m \u001b[39m    names of the * and ** arguments, if any), and values the respective bound\u001b[39;00m\n\u001b[1;32m   1497\u001b[0m \u001b[39m    values from 'positional' and 'named'.\"\"\"\u001b[39;00m\n\u001b[0;32m-> 1498\u001b[0m     spec \u001b[39m=\u001b[39m getfullargspec(func)\n\u001b[1;32m   1499\u001b[0m     args, varargs, varkw, defaults, kwonlyargs, kwonlydefaults, ann \u001b[39m=\u001b[39m spec\n\u001b[1;32m   1500\u001b[0m     f_name \u001b[39m=\u001b[39m func\u001b[39m.\u001b[39m\u001b[39m__name__\u001b[39m\n",
      "File \u001b[0;32m/opt/python/3.10.4/lib/python3.10/inspect.py:1285\u001b[0m, in \u001b[0;36mgetfullargspec\u001b[0;34m(func)\u001b[0m\n\u001b[1;32m   1253\u001b[0m \u001b[39m\"\"\"Get the names and default values of a callable object's parameters.\u001b[39;00m\n\u001b[1;32m   1254\u001b[0m \n\u001b[1;32m   1255\u001b[0m \u001b[39mA tuple of seven things is returned:\u001b[39;00m\n\u001b[0;32m   (...)\u001b[0m\n\u001b[1;32m   1266\u001b[0m \u001b[39m  - wrapper chains defined by __wrapped__ *not* unwrapped automatically\u001b[39;00m\n\u001b[1;32m   1267\u001b[0m \u001b[39m\"\"\"\u001b[39;00m\n\u001b[1;32m   1268\u001b[0m \u001b[39mtry\u001b[39;00m:\n\u001b[1;32m   1269\u001b[0m     \u001b[39m# Re: `skip_bound_arg=False`\u001b[39;00m\n\u001b[1;32m   1270\u001b[0m     \u001b[39m#\u001b[39;00m\n\u001b[0;32m   (...)\u001b[0m\n\u001b[1;32m   1282\u001b[0m     \u001b[39m# getfullargspec() historically ignored __wrapped__ attributes,\u001b[39;00m\n\u001b[1;32m   1283\u001b[0m     \u001b[39m# so we ensure that remains the case in 3.3+\u001b[39;00m\n\u001b[0;32m-> 1285\u001b[0m     sig \u001b[39m=\u001b[39m _signature_from_callable(func,\n\u001b[1;32m   1286\u001b[0m                                    follow_wrapper_chains\u001b[39m=\u001b[39;49m\u001b[39mFalse\u001b[39;49;00m,\n\u001b[1;32m   1287\u001b[0m                                    skip_bound_arg\u001b[39m=\u001b[39;49m\u001b[39mFalse\u001b[39;49;00m,\n\u001b[1;32m   1288\u001b[0m                                    sigcls\u001b[39m=\u001b[39;49mSignature,\n\u001b[1;32m   1289\u001b[0m                                    eval_str\u001b[39m=\u001b[39;49m\u001b[39mFalse\u001b[39;49;00m)\n\u001b[1;32m   1290\u001b[0m \u001b[39mexcept\u001b[39;00m \u001b[39mException\u001b[39;00m \u001b[39mas\u001b[39;00m ex:\n\u001b[1;32m   1291\u001b[0m     \u001b[39m# Most of the times 'signature' will raise ValueError.\u001b[39;00m\n\u001b[1;32m   1292\u001b[0m     \u001b[39m# But, it can also raise AttributeError, and, maybe something\u001b[39;00m\n\u001b[1;32m   1293\u001b[0m     \u001b[39m# else. So to be fully backwards compatible, we catch all\u001b[39;00m\n\u001b[1;32m   1294\u001b[0m     \u001b[39m# possible exceptions here, and reraise a TypeError.\u001b[39;00m\n\u001b[1;32m   1295\u001b[0m     \u001b[39mraise\u001b[39;00m \u001b[39mTypeError\u001b[39;00m(\u001b[39m'\u001b[39m\u001b[39munsupported callable\u001b[39m\u001b[39m'\u001b[39m) \u001b[39mfrom\u001b[39;00m \u001b[39mex\u001b[39;00m\n",
      "File \u001b[0;32m/opt/python/3.10.4/lib/python3.10/inspect.py:2456\u001b[0m, in \u001b[0;36m_signature_from_callable\u001b[0;34m(obj, follow_wrapper_chains, skip_bound_arg, globals, locals, eval_str, sigcls)\u001b[0m\n\u001b[1;32m   2451\u001b[0m             \u001b[39mreturn\u001b[39;00m sig\u001b[39m.\u001b[39mreplace(parameters\u001b[39m=\u001b[39mnew_params)\n\u001b[1;32m   2453\u001b[0m \u001b[39mif\u001b[39;00m isfunction(obj) \u001b[39mor\u001b[39;00m _signature_is_functionlike(obj):\n\u001b[1;32m   2454\u001b[0m     \u001b[39m# If it's a pure Python function, or an object that is duck type\u001b[39;00m\n\u001b[1;32m   2455\u001b[0m     \u001b[39m# of a Python function (Cython functions, for instance), then:\u001b[39;00m\n\u001b[0;32m-> 2456\u001b[0m     \u001b[39mreturn\u001b[39;00m _signature_from_function(sigcls, obj,\n\u001b[1;32m   2457\u001b[0m                                     skip_bound_arg\u001b[39m=\u001b[39;49mskip_bound_arg,\n\u001b[1;32m   2458\u001b[0m                                     \u001b[39mglobals\u001b[39;49m\u001b[39m=\u001b[39;49m\u001b[39mglobals\u001b[39;49m, \u001b[39mlocals\u001b[39;49m\u001b[39m=\u001b[39;49m\u001b[39mlocals\u001b[39;49m, eval_str\u001b[39m=\u001b[39;49meval_str)\n\u001b[1;32m   2460\u001b[0m \u001b[39mif\u001b[39;00m _signature_is_builtin(obj):\n\u001b[1;32m   2461\u001b[0m     \u001b[39mreturn\u001b[39;00m _signature_from_builtin(sigcls, obj,\n\u001b[1;32m   2462\u001b[0m                                    skip_bound_arg\u001b[39m=\u001b[39mskip_bound_arg)\n",
      "File \u001b[0;32m/opt/python/3.10.4/lib/python3.10/inspect.py:2321\u001b[0m, in \u001b[0;36m_signature_from_function\u001b[0;34m(cls, func, skip_bound_arg, globals, locals, eval_str)\u001b[0m\n\u001b[1;32m   2319\u001b[0m kind \u001b[39m=\u001b[39m _POSITIONAL_ONLY \u001b[39mif\u001b[39;00m posonly_left \u001b[39melse\u001b[39;00m _POSITIONAL_OR_KEYWORD\n\u001b[1;32m   2320\u001b[0m annotation \u001b[39m=\u001b[39m annotations\u001b[39m.\u001b[39mget(name, _empty)\n\u001b[0;32m-> 2321\u001b[0m parameters\u001b[39m.\u001b[39mappend(Parameter(name, annotation\u001b[39m=\u001b[39;49mannotation,\n\u001b[1;32m   2322\u001b[0m                             kind\u001b[39m=\u001b[39;49mkind))\n\u001b[1;32m   2323\u001b[0m \u001b[39mif\u001b[39;00m posonly_left:\n\u001b[1;32m   2324\u001b[0m     posonly_left \u001b[39m-\u001b[39m\u001b[39m=\u001b[39m \u001b[39m1\u001b[39m\n",
      "File \u001b[0;32m/opt/python/3.10.4/lib/python3.10/inspect.py:2632\u001b[0m, in \u001b[0;36mParameter.__init__\u001b[0;34m(self, name, kind, default, annotation)\u001b[0m\n\u001b[1;32m   2630\u001b[0m \u001b[39mdef\u001b[39;00m \u001b[39m__init__\u001b[39m(\u001b[39mself\u001b[39m, name, kind, \u001b[39m*\u001b[39m, default\u001b[39m=\u001b[39m_empty, annotation\u001b[39m=\u001b[39m_empty):\n\u001b[1;32m   2631\u001b[0m     \u001b[39mtry\u001b[39;00m:\n\u001b[0;32m-> 2632\u001b[0m         \u001b[39mself\u001b[39m\u001b[39m.\u001b[39m_kind \u001b[39m=\u001b[39m _ParameterKind(kind)\n\u001b[1;32m   2633\u001b[0m     \u001b[39mexcept\u001b[39;00m \u001b[39mValueError\u001b[39;00m:\n\u001b[1;32m   2634\u001b[0m         \u001b[39mraise\u001b[39;00m \u001b[39mValueError\u001b[39;00m(\u001b[39mf\u001b[39m\u001b[39m'\u001b[39m\u001b[39mvalue \u001b[39m\u001b[39m{\u001b[39;00mkind\u001b[39m!r}\u001b[39;00m\u001b[39m is not a valid Parameter.kind\u001b[39m\u001b[39m'\u001b[39m)\n",
      "File \u001b[0;32m/opt/python/3.10.4/lib/python3.10/enum.py:385\u001b[0m, in \u001b[0;36mEnumMeta.__call__\u001b[0;34m(cls, value, names, module, qualname, type, start)\u001b[0m\n\u001b[1;32m    360\u001b[0m \u001b[39m\"\"\"\u001b[39;00m\n\u001b[1;32m    361\u001b[0m \u001b[39mEither returns an existing member, or creates a new enum class.\u001b[39;00m\n\u001b[1;32m    362\u001b[0m \n\u001b[0;32m   (...)\u001b[0m\n\u001b[1;32m    382\u001b[0m \u001b[39m`type`, if set, will be mixed in as the first base class.\u001b[39;00m\n\u001b[1;32m    383\u001b[0m \u001b[39m\"\"\"\u001b[39;00m\n\u001b[1;32m    384\u001b[0m \u001b[39mif\u001b[39;00m names \u001b[39mis\u001b[39;00m \u001b[39mNone\u001b[39;00m:  \u001b[39m# simple value lookup\u001b[39;00m\n\u001b[0;32m--> 385\u001b[0m     \u001b[39mreturn\u001b[39;00m \u001b[39mcls\u001b[39;49m\u001b[39m.\u001b[39;49m\u001b[39m__new__\u001b[39;49m(\u001b[39mcls\u001b[39;49m, value)\n\u001b[1;32m    386\u001b[0m \u001b[39m# otherwise, functional API: we're creating a new Enum type\u001b[39;00m\n\u001b[1;32m    387\u001b[0m \u001b[39mreturn\u001b[39;00m \u001b[39mcls\u001b[39m\u001b[39m.\u001b[39m_create_(\n\u001b[1;32m    388\u001b[0m         value,\n\u001b[1;32m    389\u001b[0m         names,\n\u001b[0;32m   (...)\u001b[0m\n\u001b[1;32m    393\u001b[0m         start\u001b[39m=\u001b[39mstart,\n\u001b[1;32m    394\u001b[0m         )\n",
      "\u001b[0;31mKeyboardInterrupt\u001b[0m: "
     ]
    }
   ],
   "source": [
    "    \n",
    "total_reward_history = []\n",
    "moving_average_window_size = 100\n",
    "epsilon = 1.0\n",
    "train_config = TrainConfig()\n",
    "for episode in range(train_config.N_EPISODES):\n",
    "    state = env.reset()\n",
    "    total_reward = 0.0\n",
    "\n",
    "    for step in range(train_config.MAX_N_STEPS_PER_EPISODE):\n",
    "        q_value = network.apply(train_state.params, state)\n",
    "        action = exploit_or_explore(q_value=q_value, epsilon=epsilon)\n",
    "        \n",
    "        next_state, reward, is_done, *_ = env.step(action)\n",
    "        experience = Experience(state, action, reward, next_state, is_done)\n",
    "        memory.append(experience)\n",
    "        if len(memory) < TrainConfig.MEMORY_SIZE:\n",
    "            state = next_state\n",
    "            total_reward += reward\n",
    "            if is_done:\n",
    "                break\n",
    "            continue\n",
    "\n",
    "        if is_update_params(step, train_config=train_config):\n",
    "            batch =get_random_batch(memory)\n",
    "            train_state = update(train_state, batch)\n",
    "\n",
    "        state = next_state\n",
    "        total_reward += reward\n",
    "        if is_done:\n",
    "            break\n",
    "\n",
    "    total_reward_history.append(total_reward)\n",
    "    mean_total_reward_in_window = np.mean(total_reward_history[-moving_average_window_size:])\n",
    "    epsilon = update_epsilon(epsilon, train_config)\n",
    "\n",
    "\n",
    "    print(f\"\\rEpisode {episode+1} | Total point average of the last {moving_average_window_size} episodes: {mean_total_reward_in_window:.2f}\", end=\"\")\n",
    "\n",
    "    if (episode+1) % moving_average_window_size == 0:\n",
    "        print(f\"\\rEpisode {episode+1} | Total point average of the last {moving_average_window_size} episodes: {mean_total_reward_in_window:.2f}\")\n",
    "\n",
    "    # We will consider that the environment is solved if we get an\n",
    "    # average of 200 points in the last 100 episodes.\n",
    "    if mean_total_reward_in_window >= 200.0:\n",
    "        print(f\"\\n\\nEnvironment solved in {episode+1} episodes!\")\n",
    "        # q_network.save('lunar_lander_model.h5')\n",
    "        break"
   ]
  },
  {
   "cell_type": "code",
   "execution_count": 20,
   "metadata": {},
   "outputs": [
    {
     "data": {
      "text/plain": [
       "(DeviceArray([[0.2785838 , 0.16615024, 0.14843863, 0.02754669],\n",
       "              [0.2785838 , 0.16615024, 0.14843863, 0.02754669],\n",
       "              [0.2785838 , 0.16615024, 0.14843863, 0.02754669],\n",
       "              [0.2785838 , 0.16615024, 0.14843863, 0.02754669],\n",
       "              [0.2785838 , 0.16615024, 0.14843863, 0.02754669],\n",
       "              [0.2785838 , 0.16615024, 0.14843863, 0.02754669],\n",
       "              [0.2785838 , 0.16615024, 0.14843863, 0.02754669],\n",
       "              [0.2785838 , 0.16615024, 0.14843863, 0.02754669],\n",
       "              [0.2785838 , 0.16615024, 0.14843863, 0.02754669],\n",
       "              [0.2785838 , 0.16615024, 0.14843863, 0.02754669],\n",
       "              [0.2785838 , 0.16615024, 0.14843863, 0.02754669],\n",
       "              [0.2785838 , 0.16615024, 0.14843863, 0.02754669],\n",
       "              [0.2785838 , 0.16615024, 0.14843863, 0.02754669],\n",
       "              [0.2785838 , 0.16615024, 0.14843863, 0.02754669],\n",
       "              [0.2785838 , 0.16615024, 0.14843863, 0.02754669],\n",
       "              [0.2785838 , 0.16615024, 0.14843863, 0.02754669],\n",
       "              [0.2785838 , 0.16615024, 0.14843863, 0.02754669],\n",
       "              [0.2785838 , 0.16615024, 0.14843863, 0.02754669],\n",
       "              [0.2785838 , 0.16615024, 0.14843863, 0.02754669],\n",
       "              [0.2785838 , 0.16615024, 0.14843863, 0.02754669],\n",
       "              [0.2785838 , 0.16615024, 0.14843863, 0.02754669],\n",
       "              [0.2785838 , 0.16615024, 0.14843863, 0.02754669],\n",
       "              [0.2785838 , 0.16615024, 0.14843863, 0.02754669],\n",
       "              [0.2785838 , 0.16615024, 0.14843863, 0.02754669],\n",
       "              [0.2785838 , 0.16615024, 0.14843863, 0.02754669],\n",
       "              [0.2785838 , 0.16615024, 0.14843863, 0.02754669],\n",
       "              [0.2785838 , 0.16615024, 0.14843863, 0.02754669],\n",
       "              [0.2785838 , 0.16615024, 0.14843863, 0.02754669],\n",
       "              [0.2785838 , 0.16615024, 0.14843863, 0.02754669],\n",
       "              [0.2785838 , 0.16615024, 0.14843863, 0.02754669],\n",
       "              [0.2785838 , 0.16615024, 0.14843863, 0.02754669],\n",
       "              [0.2785838 , 0.16615024, 0.14843863, 0.02754669],\n",
       "              [0.2785838 , 0.16615024, 0.14843863, 0.02754669],\n",
       "              [0.2785838 , 0.16615024, 0.14843863, 0.02754669],\n",
       "              [0.2785838 , 0.16615024, 0.14843863, 0.02754669],\n",
       "              [0.2785838 , 0.16615024, 0.14843863, 0.02754669],\n",
       "              [0.2785838 , 0.16615024, 0.14843863, 0.02754669],\n",
       "              [0.2785838 , 0.16615024, 0.14843863, 0.02754669],\n",
       "              [0.2785838 , 0.16615024, 0.14843863, 0.02754669],\n",
       "              [0.2785838 , 0.16615024, 0.14843863, 0.02754669],\n",
       "              [0.2785838 , 0.16615024, 0.14843863, 0.02754669],\n",
       "              [0.2785838 , 0.16615024, 0.14843863, 0.02754669],\n",
       "              [0.2785838 , 0.16615024, 0.14843863, 0.02754669],\n",
       "              [0.2785838 , 0.16615024, 0.14843863, 0.02754669],\n",
       "              [0.2785838 , 0.16615024, 0.14843863, 0.02754669],\n",
       "              [0.2785838 , 0.16615024, 0.14843863, 0.02754669],\n",
       "              [0.2785838 , 0.16615024, 0.14843863, 0.02754669],\n",
       "              [0.2785838 , 0.16615024, 0.14843863, 0.02754669],\n",
       "              [0.2785838 , 0.16615024, 0.14843863, 0.02754669],\n",
       "              [0.2785838 , 0.16615024, 0.14843863, 0.02754669],\n",
       "              [0.2785838 , 0.16615024, 0.14843863, 0.02754669],\n",
       "              [0.2785838 , 0.16615024, 0.14843863, 0.02754669],\n",
       "              [0.2785838 , 0.16615024, 0.14843863, 0.02754669],\n",
       "              [0.2785838 , 0.16615024, 0.14843863, 0.02754669],\n",
       "              [0.2785838 , 0.16615024, 0.14843863, 0.02754669],\n",
       "              [0.2785838 , 0.16615024, 0.14843863, 0.02754669],\n",
       "              [0.2785838 , 0.16615024, 0.14843863, 0.02754669],\n",
       "              [0.2785838 , 0.16615024, 0.14843863, 0.02754669],\n",
       "              [0.2785838 , 0.16615024, 0.14843863, 0.02754669],\n",
       "              [0.2785838 , 0.16615024, 0.14843863, 0.02754669],\n",
       "              [0.2785838 , 0.16615024, 0.14843863, 0.02754669],\n",
       "              [0.2785838 , 0.16615024, 0.14843863, 0.02754669],\n",
       "              [0.2785838 , 0.16615024, 0.14843863, 0.02754669],\n",
       "              [0.2785838 , 0.16615024, 0.14843863, 0.02754669]],            dtype=float32),\n",
       " 0,\n",
       " 0)"
      ]
     },
     "execution_count": 20,
     "metadata": {},
     "output_type": "execute_result"
    }
   ],
   "source": [
    "q_values, action, np.asarray([action])[0]"
   ]
  },
  {
   "cell_type": "code",
   "execution_count": 21,
   "metadata": {},
   "outputs": [],
   "source": [
    "# import matplotlib.pyplot as plt \n",
    "# import time\n",
    "# done = False\n",
    "# state = env.reset()\n",
    "# frame = env.render(mode=\"rgb_array\")\n",
    "# for _ in range(100):    \n",
    "#     q_values = network.apply(train_state.params, state)\n",
    "#     action = jnp.argmax(q_values)\n",
    "#     state, _, done, *_ = env.step(np.asarray([action])[0])\n",
    "#     env.render()\n",
    "#     if done:\n",
    "#         env.close()"
   ]
  },
  {
   "cell_type": "code",
   "execution_count": 22,
   "metadata": {},
   "outputs": [],
   "source": [
    "import base64\n",
    "\n",
    "import imageio\n",
    "import IPython\n",
    "\n",
    "def create_video(filename, env, train_state, fps=30):\n",
    "    with imageio.get_writer(filename, fps=fps) as video:\n",
    "        done = False\n",
    "        state = env.reset()\n",
    "        frame = env.render(mode=\"rgb_array\")\n",
    "        video.append_data(frame)\n",
    "        while not done:    \n",
    "            q_values = network.apply(train_state.params, state)\n",
    "            action = jnp.argmax(q_values)\n",
    "            state, _, done, *_ = env.step(np.asarray([action])[0])\n",
    "            frame = env.render(mode=\"rgb_array\")\n",
    "            video.append_data(frame)\n",
    "\n"
   ]
  },
  {
   "cell_type": "code",
   "execution_count": 24,
   "metadata": {},
   "outputs": [
    {
     "name": "stderr",
     "output_type": "stream",
     "text": [
      "/workspaces/machine_learning_novice/venv/lib/python3.10/site-packages/gym/core.py:43: DeprecationWarning: \u001b[33mWARN: The argument mode in render method is deprecated; use render_mode during environment initialization instead.\n",
      "See here for more information: https://www.gymlibrary.ml/content/api/\u001b[0m\n",
      "  deprecation(\n",
      "WARNING:imageio_ffmpeg:IMAGEIO FFMPEG_WRITER WARNING: input image is not divisible by macro_block_size=16, resizing from (600, 400) to (608, 400) to ensure video compatibility with most codecs and players. To prevent resizing, make your input image divisible by the macro_block_size or set the macro_block_size to 1 (risking incompatibility).\n",
      "[swscaler @ 0x5c2b5c0] Warning: data is not aligned! This can lead to a speed loss\n"
     ]
    },
    {
     "data": {
      "text/html": [
       "<video src=\"./lunar_lander.mp4\" controls  >\n",
       "      Your browser does not support the <code>video</code> element.\n",
       "    </video>"
      ],
      "text/plain": [
       "<IPython.core.display.Video object>"
      ]
     },
     "execution_count": 24,
     "metadata": {},
     "output_type": "execute_result"
    }
   ],
   "source": [
    "from IPython.display import Video\n",
    "filename = \"./lunar_lander.mp4\"\n",
    "create_video(filename, env, train_state)\n",
    "Video(filename)"
   ]
  },
  {
   "cell_type": "code",
   "execution_count": 71,
   "metadata": {},
   "outputs": [
    {
     "name": "stderr",
     "output_type": "stream",
     "text": [
      "/workspaces/machine_learning_novice/venv/lib/python3.10/site-packages/haiku/_src/data_structures.py:144: FutureWarning: jax.tree_flatten is deprecated, and will be removed in a future release. Use jax.tree_util.tree_flatten instead.\n",
      "  leaves, treedef = jax.tree_flatten(tree)\n",
      "/workspaces/machine_learning_novice/venv/lib/python3.10/site-packages/haiku/_src/data_structures.py:145: FutureWarning: jax.tree_unflatten is deprecated, and will be removed in a future release. Use jax.tree_util.tree_unflatten instead.\n",
      "  return jax.tree_unflatten(treedef, leaves)\n"
     ]
    },
    {
     "data": {
      "text/plain": [
       "['jax_module/linear/b:0',\n",
       " 'jax_module/linear/w:0',\n",
       " 'jax_module/linear_1/b:0',\n",
       " 'jax_module/linear_1/w:0',\n",
       " 'jax_module/linear_2/b:0',\n",
       " 'jax_module/linear_2/w:0']"
      ]
     },
     "execution_count": 71,
     "metadata": {},
     "output_type": "execute_result"
    }
   ],
   "source": [
    "import tensorflow as tf\n",
    "import tree\n",
    "from jax.experimental import jax2tf\n",
    "import sonnet as snt\n",
    "\n",
    "\n",
    "def network_fn(x: jnp.ndarray) -> jnp.ndarray:\n",
    "    model = hk.Sequential(\n",
    "        [\n",
    "            hk.Linear(64),jax.nn.relu,\n",
    "            hk.Linear(64), jax.nn.relu,\n",
    "            hk.Linear(4),\n",
    "        ]\n",
    "\n",
    "    )\n",
    "    return model(x)\n",
    "\n",
    "\n",
    "\n",
    "def create_variable(path, value):\n",
    "  name = '/'.join(map(str, path)).replace('~', '_')\n",
    "  return tf.Variable(value, name=name)\n",
    "\n",
    "polymorphic_state_shape = jax2tf.shape_poly.PolyShape(\n",
    "  \"None, 8\"\n",
    ")\n",
    "\n",
    "class JaxModule(snt.Module):\n",
    "  def __init__(self, params, apply_fn, name=None):\n",
    "    super().__init__(name=name)\n",
    "    self._params = tree.map_structure_with_path(create_variable, params)\n",
    "    self._apply = jax2tf.convert(lambda p, x: apply_fn(p, x), polymorphic_shapes=[None, \"b, 8\"])\n",
    "    self._apply = tf.autograph.experimental.do_not_convert(self._apply)\n",
    "\n",
    "  def __call__(self, inputs):\n",
    "    return self._apply(self._params, inputs)\n",
    "\n",
    "\n",
    "network = hk.without_apply_rng(hk.transform(network_fn))\n",
    "# network = hk.transform(network_fn)\n",
    "target_network = hk.without_apply_rng(hk.transform(network_fn))\n",
    "optimiser = optax.adam(1e-3)\n",
    "initial_params = network.init(\n",
    "    jax.random.PRNGKey(seed=0), batch.states)\n",
    "net = JaxModule(initial_params, network.apply)\n",
    "[v.name for v in net.trainable_variables]\n",
    "\n"
   ]
  },
  {
   "cell_type": "code",
   "execution_count": 72,
   "metadata": {},
   "outputs": [
    {
     "data": {
      "text/plain": [
       "DeviceArray([ 0.36484796, -0.00536182,  0.11019011,  0.01452891], dtype=float32)"
      ]
     },
     "execution_count": 72,
     "metadata": {},
     "output_type": "execute_result"
    }
   ],
   "source": [
    "network.apply(initial_params, state)"
   ]
  },
  {
   "cell_type": "code",
   "execution_count": 75,
   "metadata": {},
   "outputs": [],
   "source": [
    "\n",
    "@tf.function(autograph=False, input_signature=[tf.TensorSpec([None, 8])])\n",
    "def forward(x):\n",
    "  return net(x)\n",
    "\n",
    "to_save = tf.Module()\n",
    "to_save.forward = forward\n",
    "to_save.params = list(net.variables)"
   ]
  },
  {
   "cell_type": "code",
   "execution_count": 76,
   "metadata": {},
   "outputs": [
    {
     "name": "stderr",
     "output_type": "stream",
     "text": [
      "/workspaces/machine_learning_novice/venv/lib/python3.10/site-packages/haiku/_src/data_structures.py:144: FutureWarning: jax.tree_flatten is deprecated, and will be removed in a future release. Use jax.tree_util.tree_flatten instead.\n",
      "  leaves, treedef = jax.tree_flatten(tree)\n",
      "/workspaces/machine_learning_novice/venv/lib/python3.10/site-packages/haiku/_src/data_structures.py:145: FutureWarning: jax.tree_unflatten is deprecated, and will be removed in a future release. Use jax.tree_util.tree_unflatten instead.\n",
      "  return jax.tree_unflatten(treedef, leaves)\n"
     ]
    }
   ],
   "source": [
    "tf.saved_model.save(to_save, \"./lunar_lander_model\")"
   ]
  },
  {
   "cell_type": "code",
   "execution_count": 79,
   "metadata": {},
   "outputs": [],
   "source": [
    "loaded = tf.saved_model.load(\"./lunar_lander_model/\")\n",
    "preds = loaded.forward(tf.ones([3, 8]))"
   ]
  },
  {
   "cell_type": "code",
   "execution_count": 31,
   "metadata": {},
   "outputs": [
    {
     "data": {
      "text/plain": [
       "array([ 0.0966568 ,  1.3465225 ,  0.3490748 , -0.35275942, -0.16664864,\n",
       "       -0.20712912,  0.        ,  0.        ], dtype=float32)"
      ]
     },
     "execution_count": 31,
     "metadata": {},
     "output_type": "execute_result"
    }
   ],
   "source": [
    "state"
   ]
  },
  {
   "cell_type": "code",
   "execution_count": 1,
   "metadata": {},
   "outputs": [
    {
     "name": "stdout",
     "output_type": "stream",
     "text": [
      "Metal device set to: Apple M1 Pro\n",
      "\n",
      "systemMemory: 16.00 GB\n",
      "maxCacheSize: 5.33 GB\n",
      "\n"
     ]
    }
   ],
   "source": [
    "import tensorflow as tf\n",
    "loaded = tf.saved_model.load(\"./lunar_lander_model/\")"
   ]
  },
  {
   "cell_type": "code",
   "execution_count": 3,
   "metadata": {},
   "outputs": [
    {
     "data": {
      "text/plain": [
       "<tf.Tensor: shape=(2, 8), dtype=float64, numpy=\n",
       "array([[1., 1., 1., 1., 1., 1., 1., 1.],\n",
       "       [1., 1., 1., 1., 1., 1., 1., 1.]])>"
      ]
     },
     "execution_count": 3,
     "metadata": {},
     "output_type": "execute_result"
    }
   ],
   "source": [
    "tf.ones([2, 8], dtype=tf.float64)"
   ]
  },
  {
   "cell_type": "code",
   "execution_count": 5,
   "metadata": {},
   "outputs": [
    {
     "ename": "",
     "evalue": "",
     "output_type": "error",
     "traceback": [
      "The Kernel crashed while executing code in the the current cell or a previous cell. Please review the code in the cell(s) to identify a possible cause of the failure. Click <a href='https://aka.ms/vscodeJupyterKernelCrash'>here</a> for more info. View Jupyter <a href='command:jupyter.viewOutput'>log</a> for further details."
     ]
    },
    {
     "ename": "",
     "evalue": "",
     "output_type": "error",
     "traceback": [
      "\u001b[1;31mCanceled future for execute_request message before replies were done"
     ]
    }
   ],
   "source": [
    "loaded.signatures['serving_default'](tf.ones([2, 8]))"
   ]
  },
  {
   "cell_type": "code",
   "execution_count": 44,
   "metadata": {},
   "outputs": [
    {
     "ename": "AttributeError",
     "evalue": "'Transformed' object has no attribute 'variables'",
     "output_type": "error",
     "traceback": [
      "\u001b[0;31m---------------------------------------------------------------------------\u001b[0m",
      "\u001b[0;31mAttributeError\u001b[0m                            Traceback (most recent call last)",
      "\u001b[1;32m/Users/stefruinard/Documents/personal/projects/DeepLearningCareerGuide/machine_learning_novice/introduction_to_deep_learning_with_jax/lunar.ipynb Cell 28\u001b[0m in \u001b[0;36m<cell line: 1>\u001b[0;34m()\u001b[0m\n\u001b[0;32m----> <a href='vscode-notebook-cell:/Users/stefruinard/Documents/personal/projects/DeepLearningCareerGuide/machine_learning_novice/introduction_to_deep_learning_with_jax/lunar.ipynb#X46sZmlsZQ%3D%3D?line=0'>1</a>\u001b[0m network\u001b[39m.\u001b[39;49mvariables\n",
      "\u001b[0;31mAttributeError\u001b[0m: 'Transformed' object has no attribute 'variables'"
     ]
    }
   ],
   "source": [
    "network.variables"
   ]
  },
  {
   "cell_type": "code",
   "execution_count": 25,
   "metadata": {},
   "outputs": [
    {
     "data": {
      "text/plain": [
       "(DeviceArray(3, dtype=int32),\n",
       " DeviceArray([70.321625, 69.91499 , 65.94694 , 74.401695], dtype=float32))"
      ]
     },
     "execution_count": 25,
     "metadata": {},
     "output_type": "execute_result"
    }
   ],
   "source": [
    "\n",
    "state = env.reset()\n",
    "q_values = network.apply(train_state.params, state)\n",
    "action = jnp.argmax(q_values)\n",
    "action, q_values"
   ]
  },
  {
   "cell_type": "code",
   "execution_count": 257,
   "metadata": {},
   "outputs": [
    {
     "data": {
      "text/plain": [
       "DeviceArray(-15.972583, dtype=float32)"
      ]
     },
     "execution_count": 257,
     "metadata": {},
     "output_type": "execute_result"
    }
   ],
   "source": [
    "min(get_random_batch(memory).rewards)"
   ]
  },
  {
   "cell_type": "code",
   "execution_count": 237,
   "metadata": {},
   "outputs": [
    {
     "name": "stderr",
     "output_type": "stream",
     "text": [
      "/Users/stefruinard/Documents/personal/projects/DeepLearningCareerGuide/machine_learning_novice/venv/lib/python3.9/site-packages/haiku/_src/data_structures.py:144: FutureWarning: jax.tree_flatten is deprecated, and will be removed in a future release. Use jax.tree_util.tree_flatten instead.\n",
      "  leaves, treedef = jax.tree_flatten(tree)\n",
      "/Users/stefruinard/Documents/personal/projects/DeepLearningCareerGuide/machine_learning_novice/venv/lib/python3.9/site-packages/haiku/_src/data_structures.py:145: FutureWarning: jax.tree_unflatten is deprecated, and will be removed in a future release. Use jax.tree_util.tree_unflatten instead.\n",
      "  return jax.tree_unflatten(treedef, leaves)\n"
     ]
    }
   ],
   "source": [
    "batch = get_random_batch(memory)\n",
    "\n",
    "grads = jax.grad(loss)(train_state.params, train_state.target_params, batch)\n",
    "updates, opt_state = optimiser.update(grads, train_state.opt_state)\n",
    "params = optax.apply_updates(train_state.params, updates)\n",
    "\n",
    "# Update target network.\n",
    "# params * TAU + (1 - TAU) * new_params\n",
    "# target_params = params * TrainConfig.TAU  + (1 - TrainConfig.TAU) * train_state.target_params\n",
    "target_params = optax.incremental_update(params, train_state.target_params, TrainConfig.TAU)\n",
    "\n",
    "# Compute avg_params, the exponential moving average of the \"live\" params.\n",
    "# We use this only for evaluation (cf. https://doi.org/10.1137/0330046).\n",
    "eval_params = optax.incremental_update(\n",
    "    params, train_state.eval_params, step_size=0.001)"
   ]
  },
  {
   "cell_type": "code",
   "execution_count": 206,
   "metadata": {},
   "outputs": [
    {
     "data": {
      "text/plain": [
       "{'linear': {'b': DeviceArray([ 0.00099999,  0.00099999, -0.00099999,  0.00099999,\n",
       "                0.00099999,  0.00099999,  0.00099994,  0.00099999,\n",
       "               -0.00099999, -0.00099999, -0.00099999,  0.00099999,\n",
       "               -0.00099999, -0.00099999,  0.00099999,  0.00099997,\n",
       "               -0.00099999, -0.00099999,  0.00099999, -0.00099999,\n",
       "               -0.00099999,  0.00099999, -0.00099999,  0.00099999,\n",
       "                0.00099999, -0.00099999,  0.00099999,  0.00099999,\n",
       "                0.00099999,  0.00099999, -0.00099999, -0.00099999,\n",
       "               -0.00099999, -0.00099999, -0.00099999,  0.00099999,\n",
       "               -0.00099999,  0.        , -0.00099999,  0.00099999,\n",
       "                0.00099999,  0.00099999, -0.00099999, -0.00099999,\n",
       "               -0.00099999,  0.00099999, -0.00099999,  0.00099999,\n",
       "                0.00099999, -0.00099999, -0.00099999,  0.00099999,\n",
       "               -0.00099999,  0.00099999, -0.00099999,  0.00099999,\n",
       "               -0.00099999,  0.00099999,  0.00099999,  0.00099999,\n",
       "               -0.00099999,  0.00099999, -0.00099999, -0.00099999],            dtype=float32),\n",
       "  'w': DeviceArray([[-2.68483069e-02, -1.00611158e-01, -3.61581773e-01,\n",
       "                 4.66675341e-01, -3.63684684e-01, -4.32262421e-01,\n",
       "                 6.30348504e-01,  4.77534950e-01,  2.55045563e-01,\n",
       "                 1.87228858e-01, -1.79238662e-01,  7.38709643e-02,\n",
       "                 1.12935333e-02, -3.77888083e-01, -3.14361267e-02,\n",
       "                 6.77238554e-02,  2.04320475e-01,  1.43495947e-01,\n",
       "                -1.53579637e-01, -5.59854746e-01, -3.37573260e-01,\n",
       "                 1.20614275e-01, -1.80821610e-03,  2.61967955e-03,\n",
       "                -3.74243677e-01,  2.78931737e-01,  3.13493870e-02,\n",
       "                 3.76415074e-01, -3.22317749e-01,  8.00226107e-02,\n",
       "                 1.62785903e-01, -1.43976092e-01,  9.87135768e-02,\n",
       "                 2.74258405e-01,  2.58975029e-01,  1.71044767e-01,\n",
       "                 6.55969560e-01,  3.23495209e-01, -6.15490153e-02,\n",
       "                 2.46325716e-01, -3.03757578e-01, -3.76726568e-01,\n",
       "                 2.66896725e-01,  1.88898534e-01, -3.99194151e-01,\n",
       "                 3.26877117e-01, -3.21440786e-01, -1.86414778e-01,\n",
       "                -2.80692250e-01,  3.11062366e-01, -4.54879045e-01,\n",
       "                -5.36828518e-01,  2.33873054e-01, -2.76308328e-01,\n",
       "                 4.61912423e-01,  4.45409298e-01, -1.17360726e-01,\n",
       "                 1.79752246e-01, -2.15507612e-01,  2.62482893e-02,\n",
       "                -3.58868018e-02, -1.27909809e-01,  5.68073802e-02,\n",
       "                -6.09803498e-01],\n",
       "               [ 1.85988992e-01, -1.43107295e-01,  4.07268226e-01,\n",
       "                 3.01983893e-01, -3.44056159e-01,  1.76040698e-02,\n",
       "                -2.82363296e-01, -6.53183401e-01, -3.20360571e-01,\n",
       "                 1.49922729e-01,  6.25760436e-01, -4.31215286e-01,\n",
       "                 5.02800882e-01, -6.39577359e-02,  5.65737844e-01,\n",
       "                -1.86604530e-01, -8.10581073e-02,  3.37000459e-01,\n",
       "                -4.14023064e-02, -4.62445676e-01, -2.19911769e-01,\n",
       "                -2.60383278e-01, -9.27264988e-02, -3.72414678e-01,\n",
       "                -4.60021406e-01,  1.38757512e-01,  1.12551928e-01,\n",
       "                 5.50582647e-01, -3.83499861e-01,  4.11004931e-01,\n",
       "                 2.19815969e-01,  9.40757915e-02,  5.19838154e-01,\n",
       "                 2.48631939e-01,  1.97601214e-01,  4.83321697e-01,\n",
       "                 6.17891252e-02, -5.59114575e-01, -2.07904622e-01,\n",
       "                 2.88470328e-01,  1.19727738e-01,  1.30501226e-01,\n",
       "                 6.79149944e-03, -2.73664594e-01,  3.10451865e-01,\n",
       "                 8.73303264e-02,  6.22731268e-01,  3.65970850e-01,\n",
       "                -4.44695890e-01, -2.20355570e-01,  5.24513423e-02,\n",
       "                 1.17535949e-01, -3.00970942e-01,  2.24844322e-01,\n",
       "                -3.09333298e-03,  1.86835259e-01, -2.27025356e-02,\n",
       "                 9.73270566e-04,  5.88956662e-02,  4.32018787e-01,\n",
       "                 1.08436793e-01, -1.32043153e-01, -1.69970877e-02,\n",
       "                 1.48064345e-01],\n",
       "               [ 8.61447528e-02, -2.96908319e-01,  1.17354088e-01,\n",
       "                -1.21435709e-01, -3.05300802e-01, -3.55324954e-01,\n",
       "                -1.52600512e-01,  1.57445166e-02, -3.06783468e-01,\n",
       "                -8.99385884e-02, -2.53216207e-01,  2.48424023e-01,\n",
       "                -1.10359110e-01,  3.93116206e-01, -1.30294949e-01,\n",
       "                -2.73486078e-01, -1.24312304e-02, -5.01299918e-01,\n",
       "                 3.96872729e-01, -1.85235888e-01, -4.80644107e-01,\n",
       "                 4.00628179e-01,  1.39740124e-01,  5.75154603e-01,\n",
       "                -4.44484293e-01, -2.71744460e-01, -1.05581842e-01,\n",
       "                 3.69327098e-01, -2.74787098e-01,  7.80875981e-02,\n",
       "                -5.29640615e-01, -1.71370953e-01, -1.00832358e-01,\n",
       "                -7.00453818e-01, -2.30038881e-01,  1.82425961e-01,\n",
       "                 1.52428776e-01,  9.07398462e-02, -2.96086133e-01,\n",
       "                -6.29705846e-01,  2.39524782e-01, -5.60427427e-01,\n",
       "                -3.31101209e-01,  1.32818177e-01,  4.31947112e-01,\n",
       "                -2.03949749e-01,  1.55662507e-01, -2.07622238e-02,\n",
       "                -2.20641226e-01,  5.09009361e-01,  1.39751673e-01,\n",
       "                 1.47507533e-01, -1.34283170e-01,  1.82026595e-01,\n",
       "                 2.38037169e-01, -3.33577186e-01, -1.87431321e-01,\n",
       "                 4.14644659e-01,  8.03773403e-02, -6.77384079e-01,\n",
       "                 5.21139085e-01,  2.13912576e-02,  1.28585875e-01,\n",
       "                 9.34542269e-02],\n",
       "               [-3.55582505e-01, -1.48551255e-01,  8.57814103e-02,\n",
       "                -7.47087151e-02,  9.77365300e-03, -1.39489686e-02,\n",
       "                -2.07349528e-02, -9.74834487e-02,  1.65519580e-01,\n",
       "                 2.13356078e-01,  3.52832705e-01, -1.14631668e-01,\n",
       "                -2.38838866e-01,  1.10927783e-02, -2.26756275e-01,\n",
       "                 2.77690470e-01, -2.84125656e-01, -6.01764321e-01,\n",
       "                -2.57791549e-01,  7.15757161e-02, -3.50495011e-01,\n",
       "                -2.84040421e-01,  5.15428841e-01, -6.58440888e-01,\n",
       "                 1.36080027e-01, -1.99439168e-01,  3.31721842e-01,\n",
       "                 1.25499189e-01, -1.93400666e-01,  3.33796263e-01,\n",
       "                -2.24971101e-01,  4.33500968e-02,  3.11913937e-02,\n",
       "                 2.47487659e-03, -5.12733519e-01,  1.30820036e-01,\n",
       "                -6.18090391e-01,  5.16745746e-01,  3.12732756e-02,\n",
       "                 1.76026046e-01,  1.28086641e-01, -5.93069613e-01,\n",
       "                 2.53281325e-01,  6.18047565e-02, -3.78993511e-01,\n",
       "                 2.04458579e-01, -5.83795071e-01, -4.52594161e-01,\n",
       "                 5.32221854e-01, -2.31336638e-01, -1.06311336e-01,\n",
       "                -1.10195197e-01,  3.91422123e-01, -1.97070748e-01,\n",
       "                -1.99497223e-01,  1.21873714e-01, -3.82290274e-01,\n",
       "                 3.46093237e-01, -6.57103285e-02,  2.28428692e-01,\n",
       "                 4.56880987e-01, -3.90128717e-02,  2.00094536e-01,\n",
       "                -4.37487125e-01],\n",
       "               [-5.02564073e-01, -3.88242811e-01,  2.38316536e-01,\n",
       "                 1.37726009e-01,  2.50255167e-01,  8.07284564e-03,\n",
       "                 4.40731823e-01, -1.75698802e-01,  2.78582275e-01,\n",
       "                -5.56115806e-01, -2.71738917e-02,  3.61345351e-01,\n",
       "                -3.68248284e-01,  4.79971707e-01,  7.07941875e-02,\n",
       "                -7.36679062e-02,  7.40886852e-02,  9.59609635e-03,\n",
       "                 3.26814363e-03, -3.64264756e-01,  4.05115128e-01,\n",
       "                -3.47370416e-01,  2.22492948e-01,  2.40856186e-01,\n",
       "                 1.35550529e-01,  3.69287670e-01, -8.54719579e-02,\n",
       "                -6.57794118e-01,  5.93371153e-01,  4.47753489e-01,\n",
       "                 3.64071190e-01,  7.64513528e-03, -9.41174105e-02,\n",
       "                -3.22241098e-01, -3.84685367e-01, -1.69382885e-01,\n",
       "                 4.76440527e-02, -2.76646227e-01,  2.18099073e-01,\n",
       "                 1.78414419e-01,  8.78997818e-02, -2.84548372e-01,\n",
       "                 6.75397158e-01, -2.88801789e-01, -2.27100581e-01,\n",
       "                -2.00430080e-01, -7.15815797e-02,  4.95980233e-02,\n",
       "                 5.01076102e-01, -4.80660826e-01,  1.84229966e-02,\n",
       "                -2.00611100e-01,  2.85542130e-01,  3.71206291e-02,\n",
       "                 6.66116504e-03, -3.67941231e-01,  4.14383054e-01,\n",
       "                -2.80386120e-01,  2.78320402e-01, -4.35603037e-02,\n",
       "                -6.66263878e-01,  3.63142490e-02,  3.64460528e-01,\n",
       "                 3.97343814e-01],\n",
       "               [ 1.10112704e-01, -8.17269310e-02, -6.15130842e-01,\n",
       "                 4.38280910e-01,  9.16439667e-02, -5.91078281e-01,\n",
       "                -1.24718465e-01,  2.78391868e-01,  4.59132157e-02,\n",
       "                 2.46069785e-02,  1.69078976e-01, -3.99887651e-01,\n",
       "                 5.03483951e-01,  2.23029330e-01, -3.98764253e-01,\n",
       "                 3.94366711e-01, -5.84857762e-01,  8.11644867e-02,\n",
       "                -4.78356063e-01,  1.39390796e-01,  5.90726614e-01,\n",
       "                -1.63026154e-01,  1.57487323e-03,  4.97946322e-01,\n",
       "                 8.23453367e-02, -6.51683569e-01, -8.55653509e-02,\n",
       "                 5.80818951e-01,  3.25216353e-01, -1.70671508e-01,\n",
       "                -4.44518805e-01, -1.27225765e-04, -5.72656095e-01,\n",
       "                 3.33405435e-01,  6.65860772e-01,  4.45374846e-01,\n",
       "                -3.79377186e-01,  5.79059981e-02,  3.55890840e-02,\n",
       "                 1.55256778e-01,  1.41144410e-01,  1.64799318e-01,\n",
       "                 4.23622847e-01,  4.00067568e-01,  2.67776966e-01,\n",
       "                 3.49417150e-01,  2.88801223e-01, -1.67544633e-01,\n",
       "                -8.72267038e-03, -4.12392467e-01,  9.78850126e-02,\n",
       "                -7.12165236e-02, -3.64186853e-01, -1.49751887e-01,\n",
       "                -2.12511122e-01,  4.56183434e-01, -2.92760938e-01,\n",
       "                -2.84625083e-01,  1.08006649e-01,  2.46695861e-01,\n",
       "                -1.37132525e-01, -1.41650215e-01,  4.01642203e-01,\n",
       "                 6.96764231e-01],\n",
       "               [-3.08989763e-01,  3.38413179e-01,  1.55579194e-01,\n",
       "                 1.36332065e-01, -2.01865748e-01,  2.97905028e-01,\n",
       "                -8.76818672e-02,  9.80654508e-02,  4.63898391e-01,\n",
       "                 4.52317717e-03,  1.89857662e-01,  6.01021230e-01,\n",
       "                -5.54641068e-01,  5.52695751e-01,  4.24004197e-01,\n",
       "                -1.91707745e-01,  1.10408336e-01,  4.41044271e-01,\n",
       "                 8.37889016e-02,  3.82852435e-01,  2.00355217e-01,\n",
       "                 8.33714902e-02, -4.49011289e-02, -2.25250408e-01,\n",
       "                -9.77284759e-02,  3.53689939e-01,  8.93585756e-02,\n",
       "                 1.07853502e-01,  5.31370699e-01,  4.17235047e-02,\n",
       "                -3.01976562e-01, -4.55284745e-01,  2.80611813e-01,\n",
       "                 2.12029517e-01,  1.32904649e-01,  1.38372734e-01,\n",
       "                -3.15381587e-01,  1.60035729e-01, -3.53319228e-01,\n",
       "                 2.76518881e-01, -1.27951890e-01, -2.54800528e-01,\n",
       "                -1.22413740e-01,  1.27953932e-01, -3.73036861e-01,\n",
       "                -1.48270756e-01,  2.65004132e-02,  1.10326767e-01,\n",
       "                -2.54973769e-01,  2.17289403e-02, -1.53813079e-01,\n",
       "                 4.65781316e-02,  1.85790341e-02,  2.73450971e-01,\n",
       "                 2.34317333e-01,  8.75802711e-02,  3.76858592e-01,\n",
       "                -2.34782338e-01, -1.35921776e-01, -7.48453811e-02,\n",
       "                -9.72321332e-02,  2.34207451e-01,  2.41058663e-01,\n",
       "                -6.86756149e-02],\n",
       "               [-8.79443288e-02,  1.38038903e-01, -5.10562599e-01,\n",
       "                -3.93283576e-01,  6.00024581e-01,  2.33153194e-01,\n",
       "                 5.21829844e-01, -5.67666352e-01,  5.67796111e-01,\n",
       "                 2.36108691e-01,  6.79593086e-02,  1.05257660e-01,\n",
       "                 1.98010311e-01, -1.14678517e-01,  4.37683612e-01,\n",
       "                -3.96712601e-01, -1.53994206e-02,  8.03044438e-02,\n",
       "                -5.88954449e-01, -5.18574938e-02, -4.19484735e-01,\n",
       "                -6.24289274e-01,  2.15288058e-01,  2.78810468e-02,\n",
       "                -1.67594805e-01,  1.33424029e-01, -4.44282681e-01,\n",
       "                -7.56519139e-02,  5.32889843e-01,  2.10639164e-02,\n",
       "                 2.30727807e-01,  3.28207575e-02, -2.01455101e-01,\n",
       "                 2.22336918e-01, -1.71559349e-01,  5.35962403e-01,\n",
       "                -1.42282218e-01,  6.09655585e-03,  6.21225774e-01,\n",
       "                -3.59877460e-02, -3.48298013e-01,  4.81088102e-01,\n",
       "                -5.12631461e-02, -3.68153304e-01, -1.16855085e-01,\n",
       "                 2.03465760e-01,  6.98775649e-01, -6.62420034e-01,\n",
       "                -1.82379469e-01,  1.18867919e-01, -4.46731418e-01,\n",
       "                 2.22161651e-01, -1.92601815e-01,  3.19982231e-01,\n",
       "                -3.01205069e-01, -5.35258234e-01,  1.73850842e-02,\n",
       "                 8.55212659e-03,  3.90386254e-01, -6.37523651e-01,\n",
       "                -4.08290401e-02,  3.50973219e-01,  1.50029138e-01,\n",
       "                 2.99523603e-02]], dtype=float32)},\n",
       " 'linear_1': {'b': DeviceArray([ 0.00099999,  0.00099999,  0.00099999, -0.00099999,\n",
       "                0.00099999, -0.00099999,  0.00099999,  0.00099999,\n",
       "               -0.00099999,  0.        , -0.00099999, -0.00099999,\n",
       "                0.        , -0.00099999,  0.00099999, -0.00099999,\n",
       "                0.00099999, -0.00099999,  0.00099999, -0.00099999,\n",
       "               -0.00099999, -0.00099999, -0.00099999,  0.00099999,\n",
       "               -0.00099997, -0.00099999, -0.00099999,  0.00099999,\n",
       "                0.00099999, -0.00099999, -0.00099999,  0.00099999,\n",
       "                0.00099999,  0.00099999, -0.00099999, -0.00099999,\n",
       "                0.00099999,  0.00099999,  0.00099999,  0.00099999,\n",
       "                0.00099999, -0.00099999,  0.        ,  0.00099999,\n",
       "               -0.00099999, -0.00099999, -0.00099999,  0.00099999,\n",
       "                0.00099999, -0.00099999, -0.00099999, -0.00099999,\n",
       "               -0.00099999,  0.        , -0.00099999, -0.00099999,\n",
       "                0.00099999,  0.00099999,  0.00099998,  0.        ,\n",
       "                0.00099999,  0.00099999,  0.00099999,  0.00099999],            dtype=float32),\n",
       "  'w': DeviceArray([[-0.01057768, -0.06700829, -0.14863735, ..., -0.10151245,\n",
       "                 0.22361892,  0.02165954],\n",
       "               [ 0.11734749,  0.11443626, -0.23267248, ..., -0.16666023,\n",
       "                -0.05898663, -0.02239996],\n",
       "               [-0.10623501,  0.00343569, -0.11911419, ..., -0.04380687,\n",
       "                 0.2046754 , -0.0719155 ],\n",
       "               ...,\n",
       "               [-0.15069884,  0.04984883,  0.04231884, ...,  0.06202549,\n",
       "                -0.0102264 ,  0.09173386],\n",
       "               [ 0.04823373,  0.01188141,  0.06624772, ...,  0.15597768,\n",
       "                 0.03323632,  0.15150268],\n",
       "               [ 0.24194722,  0.03381306, -0.01318211, ...,  0.08048796,\n",
       "                 0.03877438,  0.01619711]], dtype=float32)},\n",
       " 'linear_2': {'b': DeviceArray([-0.00099999, -0.00099999,  0.00099999, -0.00099999], dtype=float32),\n",
       "  'w': DeviceArray([[ 2.31430694e-01, -1.17614023e-01, -1.88268840e-01,\n",
       "                -1.01708457e-01],\n",
       "               [-1.51746765e-01, -4.03532162e-02,  1.02097154e-01,\n",
       "                 1.78086713e-01],\n",
       "               [-1.35616034e-01, -2.61656232e-02,  1.72849018e-02,\n",
       "                 1.99302770e-02],\n",
       "               [ 1.14718989e-01, -8.15034844e-03, -1.17396198e-01,\n",
       "                 4.56800833e-02],\n",
       "               [-9.26424488e-02, -9.68650207e-02,  3.88202444e-02,\n",
       "                 8.86147246e-02],\n",
       "               [-5.43037876e-02,  4.68655378e-02,  4.90440466e-02,\n",
       "                 1.22392118e-01],\n",
       "               [-2.03883380e-01,  1.60420477e-01, -7.14618638e-02,\n",
       "                 1.10793196e-01],\n",
       "               [ 8.42737500e-05, -1.22499391e-01,  4.14636992e-02,\n",
       "                 5.46740592e-02],\n",
       "               [-2.72845589e-02,  9.12721083e-02, -1.65988147e-01,\n",
       "                -1.34330586e-01],\n",
       "               [-1.33527130e-01,  1.83622226e-01, -2.06236597e-02,\n",
       "                 9.39727500e-02],\n",
       "               [ 8.56783539e-02,  4.08234186e-02,  1.27916271e-03,\n",
       "                -4.15863618e-02],\n",
       "               [ 2.32607387e-02, -6.79226592e-02,  2.26663221e-02,\n",
       "                 1.03102908e-01],\n",
       "               [-1.10748773e-02, -6.60039112e-03,  2.01561898e-01,\n",
       "                -1.03406040e-02],\n",
       "               [ 8.04091319e-02,  1.19684018e-01, -1.81919208e-03,\n",
       "                -1.84048805e-02],\n",
       "               [-1.37893617e-01, -3.97358276e-03, -3.90597731e-02,\n",
       "                -4.74539436e-02],\n",
       "               [-6.35357946e-02,  1.38746828e-01,  8.35546181e-02,\n",
       "                -2.72185151e-02],\n",
       "               [-1.24199010e-01, -6.51332438e-02,  4.12591882e-02,\n",
       "                 1.52317792e-01],\n",
       "               [-1.66065916e-01,  1.08161606e-01, -3.97436740e-03,\n",
       "                 5.30426912e-02],\n",
       "               [ 5.33893742e-02, -2.34237462e-02,  1.89216062e-03,\n",
       "                -1.37850016e-01],\n",
       "               [ 1.32679760e-01, -1.24858627e-02,  1.58751711e-01,\n",
       "                 9.18157250e-02],\n",
       "               [-4.15054038e-02,  1.73371360e-01,  1.40481040e-01,\n",
       "                 1.49959564e-01],\n",
       "               [ 9.90855172e-02,  1.57165229e-01,  1.03192486e-01,\n",
       "                 3.80609296e-02],\n",
       "               [ 1.56807676e-01,  9.02378336e-02, -8.88303518e-02,\n",
       "                 1.43195003e-01],\n",
       "               [ 1.14823163e-01, -1.50497660e-01,  6.95159361e-02,\n",
       "                -1.39788002e-01],\n",
       "               [-2.47979369e-02, -2.02998687e-02, -1.19789064e-01,\n",
       "                 2.89270412e-02],\n",
       "               [-7.15299174e-02,  2.86758430e-02,  3.92008089e-02,\n",
       "                 5.58736958e-02],\n",
       "               [ 1.65031366e-02,  5.64677455e-03, -1.51796704e-02,\n",
       "                 1.05642512e-01],\n",
       "               [-9.64747146e-02,  8.51348341e-02,  2.12945510e-02,\n",
       "                 5.29742846e-03],\n",
       "               [ 4.05214876e-02, -1.84584428e-02, -2.17069238e-02,\n",
       "                -1.16491485e-02],\n",
       "               [ 8.48780274e-02,  8.54180902e-02, -8.01480338e-02,\n",
       "                -3.68042141e-02],\n",
       "               [ 1.70876801e-01,  2.98195556e-02,  1.74188167e-01,\n",
       "                -1.93847902e-03],\n",
       "               [ 1.25607789e-01, -1.62847154e-02,  2.19919488e-01,\n",
       "                -1.18906729e-01],\n",
       "               [-8.59045163e-02, -4.94288132e-02, -1.44922584e-01,\n",
       "                -1.88869461e-01],\n",
       "               [ 1.51968552e-02, -3.84336226e-02,  1.40708372e-01,\n",
       "                 1.92886665e-01],\n",
       "               [ 1.86847314e-01,  7.27949813e-02, -1.56042585e-02,\n",
       "                 1.11112900e-01],\n",
       "               [-5.09483293e-02,  5.55466395e-03, -1.79658532e-01,\n",
       "                 9.12210345e-02],\n",
       "               [ 1.49456158e-01, -2.31179491e-01,  8.01633149e-02,\n",
       "                 3.46099958e-02],\n",
       "               [-4.30135988e-02, -8.10590610e-02,  8.06210116e-02,\n",
       "                -6.19530119e-02],\n",
       "               [-4.38846126e-02, -5.30198291e-02, -8.90584737e-02,\n",
       "                -9.82451215e-02],\n",
       "               [-7.32479915e-02, -1.47222355e-01,  6.35260418e-02,\n",
       "                 5.03379330e-02],\n",
       "               [ 6.99074492e-02,  9.08858329e-02,  1.09120704e-01,\n",
       "                -1.23159222e-01],\n",
       "               [-1.02573104e-01,  2.16245323e-01, -1.80913746e-01,\n",
       "                 4.59871329e-02],\n",
       "               [-5.34319729e-02, -6.97102398e-02, -2.35905766e-01,\n",
       "                -9.92146358e-02],\n",
       "               [-3.14138830e-02, -3.11058648e-02, -4.95970249e-02,\n",
       "                -2.75056232e-02],\n",
       "               [ 9.97959375e-02, -6.31579459e-02, -2.34476663e-03,\n",
       "                 1.33122271e-02],\n",
       "               [-7.22128227e-02,  3.21486369e-02,  4.68660742e-02,\n",
       "                -6.10461943e-02],\n",
       "               [ 2.41014231e-02, -5.31005189e-02, -1.88685227e-02,\n",
       "                 1.89736083e-01],\n",
       "               [ 1.92084074e-01, -2.17343587e-02,  1.21234849e-01,\n",
       "                 1.42434210e-01],\n",
       "               [-2.96288636e-02, -1.60491746e-02, -1.93448439e-01,\n",
       "                -2.08133340e-01],\n",
       "               [ 8.00159872e-02,  7.66750127e-02,  1.97996169e-01,\n",
       "                -4.59060930e-02],\n",
       "               [ 1.10688269e-01,  1.15123153e-01, -1.69439644e-01,\n",
       "                -1.17852665e-01],\n",
       "               [-6.89248182e-03,  6.71857819e-02, -4.16176468e-02,\n",
       "                 1.13426872e-01],\n",
       "               [-4.19079587e-02, -1.91146862e-02, -1.32049620e-01,\n",
       "                -1.87539905e-01],\n",
       "               [ 4.22531180e-02, -2.28716403e-01, -6.44706190e-02,\n",
       "                 8.97329897e-02],\n",
       "               [ 2.31891990e-01, -1.82874158e-01, -1.16918087e-02,\n",
       "                 9.01039168e-02],\n",
       "               [-2.04299837e-01,  9.33549628e-02, -5.73484190e-02,\n",
       "                -1.60365015e-01],\n",
       "               [ 7.47913942e-02, -5.29472530e-02,  8.89712870e-02,\n",
       "                 4.22047451e-02],\n",
       "               [-2.81153806e-02, -8.19005966e-02, -1.11009501e-01,\n",
       "                 1.59063756e-01],\n",
       "               [-8.75314474e-02,  1.30302519e-01, -1.02206409e-01,\n",
       "                -1.08037114e-01],\n",
       "               [-9.83181670e-02,  2.37866208e-01,  1.31801099e-01,\n",
       "                 1.07247017e-01],\n",
       "               [ 4.50743027e-02, -1.62461381e-02,  1.95871353e-01,\n",
       "                -1.83825970e-01],\n",
       "               [ 1.08370237e-01,  6.89362409e-03,  1.91558048e-01,\n",
       "                -8.57779682e-02],\n",
       "               [ 2.42819071e-01, -1.35881841e-01, -1.12327598e-01,\n",
       "                -6.98152632e-02],\n",
       "               [-9.51933712e-02, -2.86690276e-02,  2.19780162e-01,\n",
       "                 2.37918515e-02]], dtype=float32)}}"
      ]
     },
     "execution_count": 206,
     "metadata": {},
     "output_type": "execute_result"
    }
   ],
   "source": [
    "params"
   ]
  },
  {
   "cell_type": "code",
   "execution_count": 164,
   "metadata": {},
   "outputs": [
    {
     "data": {
      "text/plain": [
       "DeviceArray(0, dtype=int32)"
      ]
     },
     "execution_count": 164,
     "metadata": {},
     "output_type": "execute_result"
    }
   ],
   "source": [
    "import numpy as np\n",
    "np.array(jnp.array([0]))[0]\n",
    "jnp.array([0])"
   ]
  },
  {
   "cell_type": "code",
   "execution_count": null,
   "metadata": {},
   "outputs": [],
   "source": []
  }
 ],
 "metadata": {
  "kernelspec": {
   "display_name": "Python 3.10.4 ('venv': venv)",
   "language": "python",
   "name": "python3"
  },
  "language_info": {
   "codemirror_mode": {
    "name": "ipython",
    "version": 3
   },
   "file_extension": ".py",
   "mimetype": "text/x-python",
   "name": "python",
   "nbconvert_exporter": "python",
   "pygments_lexer": "ipython3",
   "version": "3.10.4"
  },
  "orig_nbformat": 4,
  "vscode": {
   "interpreter": {
    "hash": "1fd19f60d2496e9c9e375be8bbaf07fa2fff2a8edc3dc6611f1c0b323d41b84b"
   }
  }
 },
 "nbformat": 4,
 "nbformat_minor": 2
}
